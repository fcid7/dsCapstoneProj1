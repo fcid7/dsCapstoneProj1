{
 "cells": [
  {
   "cell_type": "markdown",
   "metadata": {},
   "source": [
    "#Data Science Career Track (Springboard/DataCamp)\n",
    "#Topic:   Capstone Project - 911 Police Calls for Service EDA, (Baltimore, MD)\n",
    "#Student: Franklin Cid\n",
    "#Mentor:  Milad Toutounchian"
   ]
  },
  {
   "cell_type": "markdown",
   "metadata": {},
   "source": [
    "## I. Data, Data Wrangling, and Setup"
   ]
  },
  {
   "cell_type": "markdown",
   "metadata": {},
   "source": [
    "#0 Import packages and visualization libraries"
   ]
  },
  {
   "cell_type": "code",
   "execution_count": 1,
   "metadata": {},
   "outputs": [],
   "source": [
    "import pandas as pd\n",
    "import numpy as np\n",
    "import seaborn as sns\n",
    "import matplotlib.pyplot as plt\n",
    "% matplotlib inline"
   ]
  },
  {
   "cell_type": "markdown",
   "metadata": {},
   "source": [
    "#1 read 911 calls"
   ]
  },
  {
   "cell_type": "code",
   "execution_count": 2,
   "metadata": {},
   "outputs": [],
   "source": [
    "c911 = pd.read_csv('Data/w911PoliceCalls_BaltimoreMD.csv')"
   ]
  },
  {
   "cell_type": "code",
   "execution_count": 3,
   "metadata": {},
   "outputs": [
    {
     "data": {
      "text/html": [
       "<div>\n",
       "<style scoped>\n",
       "    .dataframe tbody tr th:only-of-type {\n",
       "        vertical-align: middle;\n",
       "    }\n",
       "\n",
       "    .dataframe tbody tr th {\n",
       "        vertical-align: top;\n",
       "    }\n",
       "\n",
       "    .dataframe thead th {\n",
       "        text-align: right;\n",
       "    }\n",
       "</style>\n",
       "<table border=\"1\" class=\"dataframe\">\n",
       "  <thead>\n",
       "    <tr style=\"text-align: right;\">\n",
       "      <th></th>\n",
       "      <th>recordId</th>\n",
       "      <th>callDateTime</th>\n",
       "      <th>priority</th>\n",
       "      <th>district</th>\n",
       "      <th>description</th>\n",
       "      <th>callNumber</th>\n",
       "      <th>incidentLocation</th>\n",
       "      <th>location</th>\n",
       "    </tr>\n",
       "  </thead>\n",
       "  <tbody>\n",
       "    <tr>\n",
       "      <th>0</th>\n",
       "      <td>2749202</td>\n",
       "      <td>08/10/2017 03:25:00 PM</td>\n",
       "      <td>Low</td>\n",
       "      <td>ND</td>\n",
       "      <td>LARCENY</td>\n",
       "      <td>P172221666</td>\n",
       "      <td>3100 ST PAUL ST</td>\n",
       "      <td>3100 ST PAUL ST\\nBALTIMORE, MD\\n(39.326142, -7...</td>\n",
       "    </tr>\n",
       "    <tr>\n",
       "      <th>1</th>\n",
       "      <td>2785533</td>\n",
       "      <td>08/23/2017 12:53:00 PM</td>\n",
       "      <td>Medium</td>\n",
       "      <td>NE</td>\n",
       "      <td>911/NO  VOICE</td>\n",
       "      <td>P172351302</td>\n",
       "      <td>3300 BELAIR RD</td>\n",
       "      <td>3300 BELAIR RD\\nBALTIMORE, MD\\n(39.321622, -76...</td>\n",
       "    </tr>\n",
       "  </tbody>\n",
       "</table>\n",
       "</div>"
      ],
      "text/plain": [
       "   recordId            callDateTime priority district    description  \\\n",
       "0   2749202  08/10/2017 03:25:00 PM      Low       ND        LARCENY   \n",
       "1   2785533  08/23/2017 12:53:00 PM   Medium       NE  911/NO  VOICE   \n",
       "\n",
       "   callNumber incidentLocation  \\\n",
       "0  P172221666  3100 ST PAUL ST   \n",
       "1  P172351302   3300 BELAIR RD   \n",
       "\n",
       "                                            location  \n",
       "0  3100 ST PAUL ST\\nBALTIMORE, MD\\n(39.326142, -7...  \n",
       "1  3300 BELAIR RD\\nBALTIMORE, MD\\n(39.321622, -76...  "
      ]
     },
     "execution_count": 3,
     "metadata": {},
     "output_type": "execute_result"
    }
   ],
   "source": [
    "#1a Check the data structure\n",
    "c911.head(2)"
   ]
  },
  {
   "cell_type": "code",
   "execution_count": 4,
   "metadata": {},
   "outputs": [
    {
     "name": "stdout",
     "output_type": "stream",
     "text": [
      "<class 'pandas.core.frame.DataFrame'>\n",
      "RangeIndex: 3858058 entries, 0 to 3858057\n",
      "Data columns (total 8 columns):\n",
      "recordId            int64\n",
      "callDateTime        object\n",
      "priority            object\n",
      "district            object\n",
      "description         object\n",
      "callNumber          object\n",
      "incidentLocation    object\n",
      "location            object\n",
      "dtypes: int64(1), object(7)\n",
      "memory usage: 235.5+ MB\n"
     ]
    }
   ],
   "source": [
    "c911.info()"
   ]
  },
  {
   "cell_type": "markdown",
   "metadata": {},
   "source": [
    "#2 Pull c911 into a df, just including needed columns. Change column name 'description' to 'callType' (reason for the call)."
   ]
  },
  {
   "cell_type": "code",
   "execution_count": 5,
   "metadata": {},
   "outputs": [
    {
     "data": {
      "text/html": [
       "<div>\n",
       "<style scoped>\n",
       "    .dataframe tbody tr th:only-of-type {\n",
       "        vertical-align: middle;\n",
       "    }\n",
       "\n",
       "    .dataframe tbody tr th {\n",
       "        vertical-align: top;\n",
       "    }\n",
       "\n",
       "    .dataframe thead th {\n",
       "        text-align: right;\n",
       "    }\n",
       "</style>\n",
       "<table border=\"1\" class=\"dataframe\">\n",
       "  <thead>\n",
       "    <tr style=\"text-align: right;\">\n",
       "      <th></th>\n",
       "      <th>callDateTime</th>\n",
       "      <th>priority</th>\n",
       "      <th>district</th>\n",
       "      <th>callType</th>\n",
       "    </tr>\n",
       "  </thead>\n",
       "  <tbody>\n",
       "    <tr>\n",
       "      <th>0</th>\n",
       "      <td>08/10/2017 03:25:00 PM</td>\n",
       "      <td>Low</td>\n",
       "      <td>ND</td>\n",
       "      <td>LARCENY</td>\n",
       "    </tr>\n",
       "    <tr>\n",
       "      <th>1</th>\n",
       "      <td>08/23/2017 12:53:00 PM</td>\n",
       "      <td>Medium</td>\n",
       "      <td>NE</td>\n",
       "      <td>911/NO  VOICE</td>\n",
       "    </tr>\n",
       "    <tr>\n",
       "      <th>2</th>\n",
       "      <td>08/07/2017 06:57:00 PM</td>\n",
       "      <td>Medium</td>\n",
       "      <td>ED</td>\n",
       "      <td>911/NO  VOICE</td>\n",
       "    </tr>\n",
       "    <tr>\n",
       "      <th>3</th>\n",
       "      <td>08/18/2017 09:05:00 PM</td>\n",
       "      <td>Low</td>\n",
       "      <td>NW</td>\n",
       "      <td>AUTO ACCIDENT</td>\n",
       "    </tr>\n",
       "    <tr>\n",
       "      <th>4</th>\n",
       "      <td>06/27/2015 03:12:00 PM</td>\n",
       "      <td>Non-Emergency</td>\n",
       "      <td>ND</td>\n",
       "      <td>LOUD MUSIC</td>\n",
       "    </tr>\n",
       "    <tr>\n",
       "      <th>5</th>\n",
       "      <td>08/23/2017 10:09:00 AM</td>\n",
       "      <td>High</td>\n",
       "      <td>NW</td>\n",
       "      <td>AUDIBLE ALARM</td>\n",
       "    </tr>\n",
       "  </tbody>\n",
       "</table>\n",
       "</div>"
      ],
      "text/plain": [
       "             callDateTime       priority district       callType\n",
       "0  08/10/2017 03:25:00 PM            Low       ND        LARCENY\n",
       "1  08/23/2017 12:53:00 PM         Medium       NE  911/NO  VOICE\n",
       "2  08/07/2017 06:57:00 PM         Medium       ED  911/NO  VOICE\n",
       "3  08/18/2017 09:05:00 PM            Low       NW  AUTO ACCIDENT\n",
       "4  06/27/2015 03:12:00 PM  Non-Emergency       ND     LOUD MUSIC\n",
       "5  08/23/2017 10:09:00 AM           High       NW  AUDIBLE ALARM"
      ]
     },
     "execution_count": 5,
     "metadata": {},
     "output_type": "execute_result"
    }
   ],
   "source": [
    "df911 = pd.DataFrame(c911, columns=['callDateTime', 'priority', 'district', 'description'])\n",
    "df911.columns = df911.columns.str.replace('description','callType')\n",
    "df911.head(6) #chk"
   ]
  },
  {
   "cell_type": "markdown",
   "metadata": {},
   "source": [
    "#3 Cast callDateTime => dateTime (no date fx available), new col=dT"
   ]
  },
  {
   "cell_type": "code",
   "execution_count": 6,
   "metadata": {},
   "outputs": [
    {
     "data": {
      "text/html": [
       "<div>\n",
       "<style scoped>\n",
       "    .dataframe tbody tr th:only-of-type {\n",
       "        vertical-align: middle;\n",
       "    }\n",
       "\n",
       "    .dataframe tbody tr th {\n",
       "        vertical-align: top;\n",
       "    }\n",
       "\n",
       "    .dataframe thead th {\n",
       "        text-align: right;\n",
       "    }\n",
       "</style>\n",
       "<table border=\"1\" class=\"dataframe\">\n",
       "  <thead>\n",
       "    <tr style=\"text-align: right;\">\n",
       "      <th></th>\n",
       "      <th>callDateTime</th>\n",
       "      <th>priority</th>\n",
       "      <th>district</th>\n",
       "      <th>callType</th>\n",
       "      <th>dT</th>\n",
       "    </tr>\n",
       "  </thead>\n",
       "  <tbody>\n",
       "    <tr>\n",
       "      <th>0</th>\n",
       "      <td>08/10/2017 03:25:00 PM</td>\n",
       "      <td>Low</td>\n",
       "      <td>ND</td>\n",
       "      <td>LARCENY</td>\n",
       "      <td>2017-08-10 15:25:00</td>\n",
       "    </tr>\n",
       "    <tr>\n",
       "      <th>1</th>\n",
       "      <td>08/23/2017 12:53:00 PM</td>\n",
       "      <td>Medium</td>\n",
       "      <td>NE</td>\n",
       "      <td>911/NO  VOICE</td>\n",
       "      <td>2017-08-23 12:53:00</td>\n",
       "    </tr>\n",
       "    <tr>\n",
       "      <th>2</th>\n",
       "      <td>08/07/2017 06:57:00 PM</td>\n",
       "      <td>Medium</td>\n",
       "      <td>ED</td>\n",
       "      <td>911/NO  VOICE</td>\n",
       "      <td>2017-08-07 18:57:00</td>\n",
       "    </tr>\n",
       "    <tr>\n",
       "      <th>3</th>\n",
       "      <td>08/18/2017 09:05:00 PM</td>\n",
       "      <td>Low</td>\n",
       "      <td>NW</td>\n",
       "      <td>AUTO ACCIDENT</td>\n",
       "      <td>2017-08-18 21:05:00</td>\n",
       "    </tr>\n",
       "    <tr>\n",
       "      <th>4</th>\n",
       "      <td>06/27/2015 03:12:00 PM</td>\n",
       "      <td>Non-Emergency</td>\n",
       "      <td>ND</td>\n",
       "      <td>LOUD MUSIC</td>\n",
       "      <td>2015-06-27 15:12:00</td>\n",
       "    </tr>\n",
       "    <tr>\n",
       "      <th>5</th>\n",
       "      <td>08/23/2017 10:09:00 AM</td>\n",
       "      <td>High</td>\n",
       "      <td>NW</td>\n",
       "      <td>AUDIBLE ALARM</td>\n",
       "      <td>2017-08-23 10:09:00</td>\n",
       "    </tr>\n",
       "  </tbody>\n",
       "</table>\n",
       "</div>"
      ],
      "text/plain": [
       "             callDateTime       priority district       callType  \\\n",
       "0  08/10/2017 03:25:00 PM            Low       ND        LARCENY   \n",
       "1  08/23/2017 12:53:00 PM         Medium       NE  911/NO  VOICE   \n",
       "2  08/07/2017 06:57:00 PM         Medium       ED  911/NO  VOICE   \n",
       "3  08/18/2017 09:05:00 PM            Low       NW  AUTO ACCIDENT   \n",
       "4  06/27/2015 03:12:00 PM  Non-Emergency       ND     LOUD MUSIC   \n",
       "5  08/23/2017 10:09:00 AM           High       NW  AUDIBLE ALARM   \n",
       "\n",
       "                   dT  \n",
       "0 2017-08-10 15:25:00  \n",
       "1 2017-08-23 12:53:00  \n",
       "2 2017-08-07 18:57:00  \n",
       "3 2017-08-18 21:05:00  \n",
       "4 2015-06-27 15:12:00  \n",
       "5 2017-08-23 10:09:00  "
      ]
     },
     "execution_count": 6,
     "metadata": {},
     "output_type": "execute_result"
    }
   ],
   "source": [
    "#import timeit %timeit \n",
    "df911['dT'] =pd.to_datetime(df911.callDateTime)\n",
    "df911.head(6) #chk run1 = 1:14 - 1:28  = 14 min"
   ]
  },
  {
   "cell_type": "code",
   "execution_count": 7,
   "metadata": {},
   "outputs": [
    {
     "data": {
      "text/html": [
       "<div>\n",
       "<style scoped>\n",
       "    .dataframe tbody tr th:only-of-type {\n",
       "        vertical-align: middle;\n",
       "    }\n",
       "\n",
       "    .dataframe tbody tr th {\n",
       "        vertical-align: top;\n",
       "    }\n",
       "\n",
       "    .dataframe thead th {\n",
       "        text-align: right;\n",
       "    }\n",
       "</style>\n",
       "<table border=\"1\" class=\"dataframe\">\n",
       "  <thead>\n",
       "    <tr style=\"text-align: right;\">\n",
       "      <th></th>\n",
       "      <th>callDateTime</th>\n",
       "      <th>priority</th>\n",
       "      <th>district</th>\n",
       "      <th>callType</th>\n",
       "      <th>dT</th>\n",
       "    </tr>\n",
       "  </thead>\n",
       "  <tbody>\n",
       "    <tr>\n",
       "      <th>0</th>\n",
       "      <td>08/10/2017 03:25:00 PM</td>\n",
       "      <td>Low</td>\n",
       "      <td>ND</td>\n",
       "      <td>LARCENY</td>\n",
       "      <td>2017-08-10 15:25:00</td>\n",
       "    </tr>\n",
       "    <tr>\n",
       "      <th>1</th>\n",
       "      <td>08/23/2017 12:53:00 PM</td>\n",
       "      <td>Medium</td>\n",
       "      <td>NE</td>\n",
       "      <td>911/NO  VOICE</td>\n",
       "      <td>2017-08-23 12:53:00</td>\n",
       "    </tr>\n",
       "    <tr>\n",
       "      <th>2</th>\n",
       "      <td>08/07/2017 06:57:00 PM</td>\n",
       "      <td>Medium</td>\n",
       "      <td>ED</td>\n",
       "      <td>911/NO  VOICE</td>\n",
       "      <td>2017-08-07 18:57:00</td>\n",
       "    </tr>\n",
       "    <tr>\n",
       "      <th>3</th>\n",
       "      <td>08/18/2017 09:05:00 PM</td>\n",
       "      <td>Low</td>\n",
       "      <td>NW</td>\n",
       "      <td>AUTO ACCIDENT</td>\n",
       "      <td>2017-08-18 21:05:00</td>\n",
       "    </tr>\n",
       "    <tr>\n",
       "      <th>4</th>\n",
       "      <td>06/27/2015 03:12:00 PM</td>\n",
       "      <td>Non-Emergency</td>\n",
       "      <td>ND</td>\n",
       "      <td>LOUD MUSIC</td>\n",
       "      <td>2015-06-27 15:12:00</td>\n",
       "    </tr>\n",
       "    <tr>\n",
       "      <th>5</th>\n",
       "      <td>08/23/2017 10:09:00 AM</td>\n",
       "      <td>High</td>\n",
       "      <td>NW</td>\n",
       "      <td>AUDIBLE ALARM</td>\n",
       "      <td>2017-08-23 10:09:00</td>\n",
       "    </tr>\n",
       "  </tbody>\n",
       "</table>\n",
       "</div>"
      ],
      "text/plain": [
       "             callDateTime       priority district       callType  \\\n",
       "0  08/10/2017 03:25:00 PM            Low       ND        LARCENY   \n",
       "1  08/23/2017 12:53:00 PM         Medium       NE  911/NO  VOICE   \n",
       "2  08/07/2017 06:57:00 PM         Medium       ED  911/NO  VOICE   \n",
       "3  08/18/2017 09:05:00 PM            Low       NW  AUTO ACCIDENT   \n",
       "4  06/27/2015 03:12:00 PM  Non-Emergency       ND     LOUD MUSIC   \n",
       "5  08/23/2017 10:09:00 AM           High       NW  AUDIBLE ALARM   \n",
       "\n",
       "                   dT  \n",
       "0 2017-08-10 15:25:00  \n",
       "1 2017-08-23 12:53:00  \n",
       "2 2017-08-07 18:57:00  \n",
       "3 2017-08-18 21:05:00  \n",
       "4 2015-06-27 15:12:00  \n",
       "5 2017-08-23 10:09:00  "
      ]
     },
     "execution_count": 7,
     "metadata": {},
     "output_type": "execute_result"
    }
   ],
   "source": [
    "#devMode: Optional. Will be removed once approved OK by mentor.\n",
    "\n",
    "dev = 0 # [0, 1, 2]; 0=init, default 1=dev, 2=prod \n",
    "csvDT = 'Data/w911PoliceCalls_BaltimoreMD_dt.csv'\n",
    "if dev == 0:\n",
    "    df911.to_csv(csvDT, sep=',', encoding='utf-8')\n",
    "if dev == 1:  #START HERE in this block\n",
    "    c911 = pd.read_csv(csvDT, sep=',')\n",
    "    cols =['callDateTime', 'priority', 'district', 'callType', 'dT']\n",
    "    df911 = pd.DataFrame(c911, columns=cols)\n",
    "else:\n",
    "    dev = dev  #do NOTHING\n",
    "    \n",
    "df911dT = df911.copy()   # df911 = df911dT.copy()\n",
    "df911dT.head(6) #chk run1 = 15-min; ? 2:36 - 2:52 = 16 min"
   ]
  },
  {
   "cell_type": "markdown",
   "metadata": {},
   "source": [
    "#4 Set the INDEX and SORT before filtering the target datasets."
   ]
  },
  {
   "cell_type": "code",
   "execution_count": 8,
   "metadata": {},
   "outputs": [
    {
     "data": {
      "text/html": [
       "<div>\n",
       "<style scoped>\n",
       "    .dataframe tbody tr th:only-of-type {\n",
       "        vertical-align: middle;\n",
       "    }\n",
       "\n",
       "    .dataframe tbody tr th {\n",
       "        vertical-align: top;\n",
       "    }\n",
       "\n",
       "    .dataframe thead th {\n",
       "        text-align: right;\n",
       "    }\n",
       "</style>\n",
       "<table border=\"1\" class=\"dataframe\">\n",
       "  <thead>\n",
       "    <tr style=\"text-align: right;\">\n",
       "      <th></th>\n",
       "      <th>callDateTime</th>\n",
       "      <th>priority</th>\n",
       "      <th>district</th>\n",
       "      <th>callType</th>\n",
       "      <th>dT</th>\n",
       "    </tr>\n",
       "  </thead>\n",
       "  <tbody>\n",
       "    <tr>\n",
       "      <th>1106565</th>\n",
       "      <td>01/01/2015 12:01:00 AM</td>\n",
       "      <td>High</td>\n",
       "      <td>NW</td>\n",
       "      <td>Dischrg Firearm</td>\n",
       "      <td>2015-01-01 00:01:00</td>\n",
       "    </tr>\n",
       "    <tr>\n",
       "      <th>357881</th>\n",
       "      <td>01/01/2015 12:01:00 AM</td>\n",
       "      <td>High</td>\n",
       "      <td>SW</td>\n",
       "      <td>Shooting</td>\n",
       "      <td>2015-01-01 00:01:00</td>\n",
       "    </tr>\n",
       "    <tr>\n",
       "      <th>359329</th>\n",
       "      <td>01/01/2015 12:01:00 AM</td>\n",
       "      <td>Low</td>\n",
       "      <td>SW</td>\n",
       "      <td>Other</td>\n",
       "      <td>2015-01-01 00:01:00</td>\n",
       "    </tr>\n",
       "    <tr>\n",
       "      <th>359125</th>\n",
       "      <td>01/01/2015 12:02:00 AM</td>\n",
       "      <td>Low</td>\n",
       "      <td>SW</td>\n",
       "      <td>Subject stop</td>\n",
       "      <td>2015-01-01 00:02:00</td>\n",
       "    </tr>\n",
       "    <tr>\n",
       "      <th>359340</th>\n",
       "      <td>01/01/2015 12:02:00 AM</td>\n",
       "      <td>High</td>\n",
       "      <td>SW</td>\n",
       "      <td>Dischrg Firearm</td>\n",
       "      <td>2015-01-01 00:02:00</td>\n",
       "    </tr>\n",
       "    <tr>\n",
       "      <th>358628</th>\n",
       "      <td>01/01/2015 12:02:00 AM</td>\n",
       "      <td>High</td>\n",
       "      <td>NE</td>\n",
       "      <td>Dischrg Firearm</td>\n",
       "      <td>2015-01-01 00:02:00</td>\n",
       "    </tr>\n",
       "  </tbody>\n",
       "</table>\n",
       "</div>"
      ],
      "text/plain": [
       "                   callDateTime priority district         callType  \\\n",
       "1106565  01/01/2015 12:01:00 AM     High       NW  Dischrg Firearm   \n",
       "357881   01/01/2015 12:01:00 AM     High       SW         Shooting   \n",
       "359329   01/01/2015 12:01:00 AM      Low       SW            Other   \n",
       "359125   01/01/2015 12:02:00 AM      Low       SW     Subject stop   \n",
       "359340   01/01/2015 12:02:00 AM     High       SW  Dischrg Firearm   \n",
       "358628   01/01/2015 12:02:00 AM     High       NE  Dischrg Firearm   \n",
       "\n",
       "                         dT  \n",
       "1106565 2015-01-01 00:01:00  \n",
       "357881  2015-01-01 00:01:00  \n",
       "359329  2015-01-01 00:01:00  \n",
       "359125  2015-01-01 00:02:00  \n",
       "359340  2015-01-01 00:02:00  \n",
       "358628  2015-01-01 00:02:00  "
      ]
     },
     "execution_count": 8,
     "metadata": {},
     "output_type": "execute_result"
    }
   ],
   "source": [
    "df911.set_index('dT', drop=True)  #?\n",
    "df911.sort_values(by='dT', inplace=True)\n",
    "df911.head(6) #chk"
   ]
  },
  {
   "cell_type": "markdown",
   "metadata": {},
   "source": [
    "#5 Create needed columns for manipulating/grouping data later.\n",
    "#Calculate the dateparts for yr, mo, and dy.\n",
    "#Now, Drop callDateTime col."
   ]
  },
  {
   "cell_type": "code",
   "execution_count": 9,
   "metadata": {},
   "outputs": [
    {
     "data": {
      "text/html": [
       "<div>\n",
       "<style scoped>\n",
       "    .dataframe tbody tr th:only-of-type {\n",
       "        vertical-align: middle;\n",
       "    }\n",
       "\n",
       "    .dataframe tbody tr th {\n",
       "        vertical-align: top;\n",
       "    }\n",
       "\n",
       "    .dataframe thead th {\n",
       "        text-align: right;\n",
       "    }\n",
       "</style>\n",
       "<table border=\"1\" class=\"dataframe\">\n",
       "  <thead>\n",
       "    <tr style=\"text-align: right;\">\n",
       "      <th></th>\n",
       "      <th>callDateTime</th>\n",
       "      <th>priority</th>\n",
       "      <th>district</th>\n",
       "      <th>callType</th>\n",
       "      <th>dT</th>\n",
       "      <th>yr</th>\n",
       "      <th>mo</th>\n",
       "      <th>dy</th>\n",
       "    </tr>\n",
       "  </thead>\n",
       "  <tbody>\n",
       "    <tr>\n",
       "      <th>2492563</th>\n",
       "      <td>10/10/2018 11:43:00 AM</td>\n",
       "      <td>Low</td>\n",
       "      <td>NE</td>\n",
       "      <td>ESCORT</td>\n",
       "      <td>2018-10-10 11:43:00</td>\n",
       "      <td>2018</td>\n",
       "      <td>10</td>\n",
       "      <td>10</td>\n",
       "    </tr>\n",
       "    <tr>\n",
       "      <th>2492696</th>\n",
       "      <td>10/10/2018 11:44:00 AM</td>\n",
       "      <td>Medium</td>\n",
       "      <td>ED</td>\n",
       "      <td>DISORDERLY</td>\n",
       "      <td>2018-10-10 11:44:00</td>\n",
       "      <td>2018</td>\n",
       "      <td>10</td>\n",
       "      <td>10</td>\n",
       "    </tr>\n",
       "    <tr>\n",
       "      <th>2492673</th>\n",
       "      <td>10/10/2018 11:44:00 AM</td>\n",
       "      <td>Low</td>\n",
       "      <td>NW</td>\n",
       "      <td>CHECKWELLBEING</td>\n",
       "      <td>2018-10-10 11:44:00</td>\n",
       "      <td>2018</td>\n",
       "      <td>10</td>\n",
       "      <td>10</td>\n",
       "    </tr>\n",
       "    <tr>\n",
       "      <th>2492546</th>\n",
       "      <td>10/10/2018 11:45:00 AM</td>\n",
       "      <td>Medium</td>\n",
       "      <td>NE</td>\n",
       "      <td>FAMILY DISTURB</td>\n",
       "      <td>2018-10-10 11:45:00</td>\n",
       "      <td>2018</td>\n",
       "      <td>10</td>\n",
       "      <td>10</td>\n",
       "    </tr>\n",
       "    <tr>\n",
       "      <th>2492589</th>\n",
       "      <td>10/10/2018 11:45:00 AM</td>\n",
       "      <td>High</td>\n",
       "      <td>NE</td>\n",
       "      <td>SILENT ALARM</td>\n",
       "      <td>2018-10-10 11:45:00</td>\n",
       "      <td>2018</td>\n",
       "      <td>10</td>\n",
       "      <td>10</td>\n",
       "    </tr>\n",
       "  </tbody>\n",
       "</table>\n",
       "</div>"
      ],
      "text/plain": [
       "                   callDateTime priority district        callType  \\\n",
       "2492563  10/10/2018 11:43:00 AM      Low       NE          ESCORT   \n",
       "2492696  10/10/2018 11:44:00 AM   Medium       ED      DISORDERLY   \n",
       "2492673  10/10/2018 11:44:00 AM      Low       NW  CHECKWELLBEING   \n",
       "2492546  10/10/2018 11:45:00 AM   Medium       NE  FAMILY DISTURB   \n",
       "2492589  10/10/2018 11:45:00 AM     High       NE    SILENT ALARM   \n",
       "\n",
       "                         dT    yr  mo  dy  \n",
       "2492563 2018-10-10 11:43:00  2018  10  10  \n",
       "2492696 2018-10-10 11:44:00  2018  10  10  \n",
       "2492673 2018-10-10 11:44:00  2018  10  10  \n",
       "2492546 2018-10-10 11:45:00  2018  10  10  \n",
       "2492589 2018-10-10 11:45:00  2018  10  10  "
      ]
     },
     "execution_count": 9,
     "metadata": {},
     "output_type": "execute_result"
    }
   ],
   "source": [
    "df911['yr'] = ''; df911['mo'] = ''; df911['dy'] = ''\n",
    "df911.yr = pd.DatetimeIndex(df911.dT).year\n",
    "df911.mo = pd.DatetimeIndex(df911.dT).month\n",
    "df911.dy = pd.DatetimeIndex(df911.dT).day\n",
    "df911.tail() #chk"
   ]
  },
  {
   "cell_type": "code",
   "execution_count": 10,
   "metadata": {},
   "outputs": [
    {
     "data": {
      "text/html": [
       "<div>\n",
       "<style scoped>\n",
       "    .dataframe tbody tr th:only-of-type {\n",
       "        vertical-align: middle;\n",
       "    }\n",
       "\n",
       "    .dataframe tbody tr th {\n",
       "        vertical-align: top;\n",
       "    }\n",
       "\n",
       "    .dataframe thead th {\n",
       "        text-align: right;\n",
       "    }\n",
       "</style>\n",
       "<table border=\"1\" class=\"dataframe\">\n",
       "  <thead>\n",
       "    <tr style=\"text-align: right;\">\n",
       "      <th></th>\n",
       "      <th>priority</th>\n",
       "      <th>district</th>\n",
       "      <th>callType</th>\n",
       "      <th>dT</th>\n",
       "      <th>yr</th>\n",
       "      <th>mo</th>\n",
       "      <th>dy</th>\n",
       "    </tr>\n",
       "  </thead>\n",
       "  <tbody>\n",
       "    <tr>\n",
       "      <th>1106565</th>\n",
       "      <td>High</td>\n",
       "      <td>NW</td>\n",
       "      <td>Dischrg Firearm</td>\n",
       "      <td>2015-01-01 00:01:00</td>\n",
       "      <td>2015</td>\n",
       "      <td>1</td>\n",
       "      <td>1</td>\n",
       "    </tr>\n",
       "    <tr>\n",
       "      <th>357881</th>\n",
       "      <td>High</td>\n",
       "      <td>SW</td>\n",
       "      <td>Shooting</td>\n",
       "      <td>2015-01-01 00:01:00</td>\n",
       "      <td>2015</td>\n",
       "      <td>1</td>\n",
       "      <td>1</td>\n",
       "    </tr>\n",
       "    <tr>\n",
       "      <th>359329</th>\n",
       "      <td>Low</td>\n",
       "      <td>SW</td>\n",
       "      <td>Other</td>\n",
       "      <td>2015-01-01 00:01:00</td>\n",
       "      <td>2015</td>\n",
       "      <td>1</td>\n",
       "      <td>1</td>\n",
       "    </tr>\n",
       "    <tr>\n",
       "      <th>359125</th>\n",
       "      <td>Low</td>\n",
       "      <td>SW</td>\n",
       "      <td>Subject stop</td>\n",
       "      <td>2015-01-01 00:02:00</td>\n",
       "      <td>2015</td>\n",
       "      <td>1</td>\n",
       "      <td>1</td>\n",
       "    </tr>\n",
       "    <tr>\n",
       "      <th>359340</th>\n",
       "      <td>High</td>\n",
       "      <td>SW</td>\n",
       "      <td>Dischrg Firearm</td>\n",
       "      <td>2015-01-01 00:02:00</td>\n",
       "      <td>2015</td>\n",
       "      <td>1</td>\n",
       "      <td>1</td>\n",
       "    </tr>\n",
       "  </tbody>\n",
       "</table>\n",
       "</div>"
      ],
      "text/plain": [
       "        priority district         callType                  dT    yr  mo  dy\n",
       "1106565     High       NW  Dischrg Firearm 2015-01-01 00:01:00  2015   1   1\n",
       "357881      High       SW         Shooting 2015-01-01 00:01:00  2015   1   1\n",
       "359329       Low       SW            Other 2015-01-01 00:01:00  2015   1   1\n",
       "359125       Low       SW     Subject stop 2015-01-01 00:02:00  2015   1   1\n",
       "359340      High       SW  Dischrg Firearm 2015-01-01 00:02:00  2015   1   1"
      ]
     },
     "execution_count": 10,
     "metadata": {},
     "output_type": "execute_result"
    }
   ],
   "source": [
    "#Drop callDateTime col now.\n",
    "df911 = df911.drop('callDateTime', axis=1) #3858058 rows × 7 columns\n",
    "df911.head() #chk"
   ]
  },
  {
   "cell_type": "code",
   "execution_count": 11,
   "metadata": {},
   "outputs": [],
   "source": [
    "#6 #Data wrangle: df911\n",
    "##6a Filter: 01/2015 - 12/2017 (3 full years)\n",
    "##6b Empty/NaN/NULL \n",
    "##6c Uppercase/Lowercase - make all callTypes Upper()\n",
    "##6d Data error - Mistype, extra space \n",
    "##6e Work only on top 5 district - dfDistrict (Jan/2015, Jan/2016, Jan/2017)\n",
    "##6f Work only on top 4 priority - dfPriority (3 full years of 2015, 2016, 2017)\n",
    "##6g Work only on top 5 callType - dfCallType (Jan/2015, Jan/2016, Jan/2017)"
   ]
  },
  {
   "cell_type": "code",
   "execution_count": 12,
   "metadata": {},
   "outputs": [
    {
     "name": "stdout",
     "output_type": "stream",
     "text": [
      "<class 'pandas.core.frame.DataFrame'>\n",
      "Int64Index: 3858058 entries, 1106565 to 2492589\n",
      "Data columns (total 7 columns):\n",
      "priority    object\n",
      "district    object\n",
      "callType    object\n",
      "dT          datetime64[ns]\n",
      "yr          int64\n",
      "mo          int64\n",
      "dy          int64\n",
      "dtypes: datetime64[ns](1), int64(3), object(3)\n",
      "memory usage: 235.5+ MB\n"
     ]
    }
   ],
   "source": [
    "df911.info() #(3858058, 7)"
   ]
  },
  {
   "cell_type": "code",
   "execution_count": 13,
   "metadata": {},
   "outputs": [
    {
     "data": {
      "text/html": [
       "<div>\n",
       "<style scoped>\n",
       "    .dataframe tbody tr th:only-of-type {\n",
       "        vertical-align: middle;\n",
       "    }\n",
       "\n",
       "    .dataframe tbody tr th {\n",
       "        vertical-align: top;\n",
       "    }\n",
       "\n",
       "    .dataframe thead th {\n",
       "        text-align: right;\n",
       "    }\n",
       "</style>\n",
       "<table border=\"1\" class=\"dataframe\">\n",
       "  <thead>\n",
       "    <tr style=\"text-align: right;\">\n",
       "      <th></th>\n",
       "      <th>priority</th>\n",
       "      <th>district</th>\n",
       "      <th>callType</th>\n",
       "      <th>dT</th>\n",
       "      <th>yr</th>\n",
       "      <th>mo</th>\n",
       "      <th>dy</th>\n",
       "    </tr>\n",
       "  </thead>\n",
       "  <tbody>\n",
       "    <tr>\n",
       "      <th>3083878</th>\n",
       "      <td>Low</td>\n",
       "      <td>CD</td>\n",
       "      <td>OTHER</td>\n",
       "      <td>2017-12-31 23:58:00</td>\n",
       "      <td>2017</td>\n",
       "      <td>12</td>\n",
       "      <td>31</td>\n",
       "    </tr>\n",
       "    <tr>\n",
       "      <th>873473</th>\n",
       "      <td>Non-Emergency</td>\n",
       "      <td>NE</td>\n",
       "      <td>Business Check</td>\n",
       "      <td>2017-12-31 23:58:00</td>\n",
       "      <td>2017</td>\n",
       "      <td>12</td>\n",
       "      <td>31</td>\n",
       "    </tr>\n",
       "    <tr>\n",
       "      <th>140102</th>\n",
       "      <td>Medium</td>\n",
       "      <td>NE</td>\n",
       "      <td>FAMILY DISTURB</td>\n",
       "      <td>2017-12-31 23:58:00</td>\n",
       "      <td>2017</td>\n",
       "      <td>12</td>\n",
       "      <td>31</td>\n",
       "    </tr>\n",
       "    <tr>\n",
       "      <th>2161528</th>\n",
       "      <td>Medium</td>\n",
       "      <td>ND</td>\n",
       "      <td>DISORDERLY</td>\n",
       "      <td>2017-12-31 23:59:00</td>\n",
       "      <td>2017</td>\n",
       "      <td>12</td>\n",
       "      <td>31</td>\n",
       "    </tr>\n",
       "    <tr>\n",
       "      <th>3125919</th>\n",
       "      <td>Medium</td>\n",
       "      <td>SE</td>\n",
       "      <td>911/NO  VOICE</td>\n",
       "      <td>2017-12-31 23:59:00</td>\n",
       "      <td>2017</td>\n",
       "      <td>12</td>\n",
       "      <td>31</td>\n",
       "    </tr>\n",
       "  </tbody>\n",
       "</table>\n",
       "</div>"
      ],
      "text/plain": [
       "              priority district        callType                  dT    yr  mo  \\\n",
       "3083878            Low       CD           OTHER 2017-12-31 23:58:00  2017  12   \n",
       "873473   Non-Emergency       NE  Business Check 2017-12-31 23:58:00  2017  12   \n",
       "140102          Medium       NE  FAMILY DISTURB 2017-12-31 23:58:00  2017  12   \n",
       "2161528         Medium       ND      DISORDERLY 2017-12-31 23:59:00  2017  12   \n",
       "3125919         Medium       SE   911/NO  VOICE 2017-12-31 23:59:00  2017  12   \n",
       "\n",
       "         dy  \n",
       "3083878  31  \n",
       "873473   31  \n",
       "140102   31  \n",
       "2161528  31  \n",
       "3125919  31  "
      ]
     },
     "execution_count": 13,
     "metadata": {},
     "output_type": "execute_result"
    }
   ],
   "source": [
    "##6a Filter: 01/2015 - 12/2017 (3 full years)\n",
    "df911 = df911.loc[(df911.dT >= '2015-01') & (df911.dT < '2018-01')]  ##zap!\n",
    "df911.tail()"
   ]
  },
  {
   "cell_type": "code",
   "execution_count": 14,
   "metadata": {},
   "outputs": [
    {
     "data": {
      "text/html": [
       "<div>\n",
       "<style scoped>\n",
       "    .dataframe tbody tr th:only-of-type {\n",
       "        vertical-align: middle;\n",
       "    }\n",
       "\n",
       "    .dataframe tbody tr th {\n",
       "        vertical-align: top;\n",
       "    }\n",
       "\n",
       "    .dataframe thead th {\n",
       "        text-align: right;\n",
       "    }\n",
       "</style>\n",
       "<table border=\"1\" class=\"dataframe\">\n",
       "  <thead>\n",
       "    <tr style=\"text-align: right;\">\n",
       "      <th></th>\n",
       "      <th>priority</th>\n",
       "      <th>district</th>\n",
       "      <th>callType</th>\n",
       "      <th>dT</th>\n",
       "      <th>yr</th>\n",
       "      <th>mo</th>\n",
       "      <th>dy</th>\n",
       "    </tr>\n",
       "  </thead>\n",
       "  <tbody>\n",
       "    <tr>\n",
       "      <th>3253354</th>\n",
       "      <td>NaN</td>\n",
       "      <td>SW</td>\n",
       "      <td>BURGLARY</td>\n",
       "      <td>2015-04-27 11:13:00</td>\n",
       "      <td>2015</td>\n",
       "      <td>4</td>\n",
       "      <td>27</td>\n",
       "    </tr>\n",
       "    <tr>\n",
       "      <th>3362416</th>\n",
       "      <td>NaN</td>\n",
       "      <td>SE</td>\n",
       "      <td>COMMON ASSAULT</td>\n",
       "      <td>2015-04-27 11:14:00</td>\n",
       "      <td>2015</td>\n",
       "      <td>4</td>\n",
       "      <td>27</td>\n",
       "    </tr>\n",
       "    <tr>\n",
       "      <th>3249583</th>\n",
       "      <td>NaN</td>\n",
       "      <td>NW</td>\n",
       "      <td>ROBBERY ARMED</td>\n",
       "      <td>2015-04-27 11:23:00</td>\n",
       "      <td>2015</td>\n",
       "      <td>4</td>\n",
       "      <td>27</td>\n",
       "    </tr>\n",
       "    <tr>\n",
       "      <th>23652</th>\n",
       "      <td>NaN</td>\n",
       "      <td>NW</td>\n",
       "      <td>PURSE SNATCH</td>\n",
       "      <td>2015-04-27 11:24:00</td>\n",
       "      <td>2015</td>\n",
       "      <td>4</td>\n",
       "      <td>27</td>\n",
       "    </tr>\n",
       "    <tr>\n",
       "      <th>1106645</th>\n",
       "      <td>NaN</td>\n",
       "      <td>NW</td>\n",
       "      <td>PURSE SNATCH</td>\n",
       "      <td>2015-04-27 11:24:00</td>\n",
       "      <td>2015</td>\n",
       "      <td>4</td>\n",
       "      <td>27</td>\n",
       "    </tr>\n",
       "  </tbody>\n",
       "</table>\n",
       "</div>"
      ],
      "text/plain": [
       "        priority district        callType                  dT    yr  mo  dy\n",
       "3253354      NaN       SW        BURGLARY 2015-04-27 11:13:00  2015   4  27\n",
       "3362416      NaN       SE  COMMON ASSAULT 2015-04-27 11:14:00  2015   4  27\n",
       "3249583      NaN       NW   ROBBERY ARMED 2015-04-27 11:23:00  2015   4  27\n",
       "23652        NaN       NW    PURSE SNATCH 2015-04-27 11:24:00  2015   4  27\n",
       "1106645      NaN       NW    PURSE SNATCH 2015-04-27 11:24:00  2015   4  27"
      ]
     },
     "execution_count": 14,
     "metadata": {},
     "output_type": "execute_result"
    }
   ],
   "source": [
    "##6b Empty/NaN/NULL   #priority missing(NULL) = #3123855 -3117200 =6655\n",
    "dfPnull = df911[df911.priority.isnull()]\n",
    "dfPnull.head()"
   ]
  },
  {
   "cell_type": "code",
   "execution_count": 15,
   "metadata": {},
   "outputs": [
    {
     "data": {
      "text/plain": [
       "COMMON ASSAULT     1883\n",
       "BURGLARY           1106\n",
       "DISORDERLY          708\n",
       "ARMED PERSON        338\n",
       "AGGRAV ASSAULT      296\n",
       "LARCENCY            253\n",
       "DESTRUCT PROPTY     253\n",
       "DISCHRG FIREARM     216\n",
       "FAMILY DISTURB      203\n",
       "HIT AND RUN         104\n",
       "Name: callType, dtype: int64"
      ]
     },
     "execution_count": 15,
     "metadata": {},
     "output_type": "execute_result"
    }
   ],
   "source": [
    "##6b Empty/NaN/NULL \n",
    "#Get unique list of callTypes with counts. Focus on Top 10\n",
    "dfPnull.callType.value_counts().head(10)"
   ]
  },
  {
   "cell_type": "code",
   "execution_count": 16,
   "metadata": {},
   "outputs": [
    {
     "data": {
      "text/html": [
       "<div>\n",
       "<style scoped>\n",
       "    .dataframe tbody tr th:only-of-type {\n",
       "        vertical-align: middle;\n",
       "    }\n",
       "\n",
       "    .dataframe tbody tr th {\n",
       "        vertical-align: top;\n",
       "    }\n",
       "\n",
       "    .dataframe thead th {\n",
       "        text-align: right;\n",
       "    }\n",
       "</style>\n",
       "<table border=\"1\" class=\"dataframe\">\n",
       "  <thead>\n",
       "    <tr style=\"text-align: right;\">\n",
       "      <th>priority</th>\n",
       "      <th>High</th>\n",
       "      <th>Low</th>\n",
       "      <th>Medium</th>\n",
       "      <th>Out of Service</th>\n",
       "    </tr>\n",
       "    <tr>\n",
       "      <th>callType</th>\n",
       "      <th></th>\n",
       "      <th></th>\n",
       "      <th></th>\n",
       "      <th></th>\n",
       "    </tr>\n",
       "  </thead>\n",
       "  <tbody>\n",
       "    <tr>\n",
       "      <th>COMMON ASSAULT</th>\n",
       "      <td>322</td>\n",
       "      <td>8</td>\n",
       "      <td>132771</td>\n",
       "      <td>33</td>\n",
       "    </tr>\n",
       "  </tbody>\n",
       "</table>\n",
       "</div>"
      ],
      "text/plain": [
       "priority        High  Low  Medium  Out of Service\n",
       "callType                                         \n",
       "COMMON ASSAULT   322    8  132771              33"
      ]
     },
     "execution_count": 16,
     "metadata": {},
     "output_type": "execute_result"
    }
   ],
   "source": [
    "##6b Empty/NaN/NULL #Determine what priority is likely for this callType >>> Medium\n",
    "dfPnull10 = df911[df911.callType =='COMMON ASSAULT']\n",
    "pd.crosstab (dfPnull10.callType, dfPnull10.priority)"
   ]
  },
  {
   "cell_type": "code",
   "execution_count": 17,
   "metadata": {},
   "outputs": [
    {
     "data": {
      "text/html": [
       "<div>\n",
       "<style scoped>\n",
       "    .dataframe tbody tr th:only-of-type {\n",
       "        vertical-align: middle;\n",
       "    }\n",
       "\n",
       "    .dataframe tbody tr th {\n",
       "        vertical-align: top;\n",
       "    }\n",
       "\n",
       "    .dataframe thead th {\n",
       "        text-align: right;\n",
       "    }\n",
       "</style>\n",
       "<table border=\"1\" class=\"dataframe\">\n",
       "  <thead>\n",
       "    <tr style=\"text-align: right;\">\n",
       "      <th>priority</th>\n",
       "      <th>High</th>\n",
       "      <th>Low</th>\n",
       "      <th>Medium</th>\n",
       "      <th>Out of Service</th>\n",
       "    </tr>\n",
       "    <tr>\n",
       "      <th>callType</th>\n",
       "      <th></th>\n",
       "      <th></th>\n",
       "      <th></th>\n",
       "      <th></th>\n",
       "    </tr>\n",
       "  </thead>\n",
       "  <tbody>\n",
       "    <tr>\n",
       "      <th>BURGLARY</th>\n",
       "      <td>120</td>\n",
       "      <td>2</td>\n",
       "      <td>63489</td>\n",
       "      <td>9</td>\n",
       "    </tr>\n",
       "  </tbody>\n",
       "</table>\n",
       "</div>"
      ],
      "text/plain": [
       "priority  High  Low  Medium  Out of Service\n",
       "callType                                   \n",
       "BURGLARY   120    2   63489               9"
      ]
     },
     "execution_count": 17,
     "metadata": {},
     "output_type": "execute_result"
    }
   ],
   "source": [
    "##6b Empty/NaN/NULL #Determine what priority is likely for this callType >>> Medium\n",
    "dfPnull10 = df911[df911.callType =='BURGLARY']\n",
    "pd.crosstab (dfPnull10.callType, dfPnull10.priority)"
   ]
  },
  {
   "cell_type": "code",
   "execution_count": 18,
   "metadata": {},
   "outputs": [
    {
     "data": {
      "text/html": [
       "<div>\n",
       "<style scoped>\n",
       "    .dataframe tbody tr th:only-of-type {\n",
       "        vertical-align: middle;\n",
       "    }\n",
       "\n",
       "    .dataframe tbody tr th {\n",
       "        vertical-align: top;\n",
       "    }\n",
       "\n",
       "    .dataframe thead th {\n",
       "        text-align: right;\n",
       "    }\n",
       "</style>\n",
       "<table border=\"1\" class=\"dataframe\">\n",
       "  <thead>\n",
       "    <tr style=\"text-align: right;\">\n",
       "      <th>priority</th>\n",
       "      <th>High</th>\n",
       "      <th>Low</th>\n",
       "      <th>Medium</th>\n",
       "      <th>Non-Emergency</th>\n",
       "      <th>Out of Service</th>\n",
       "    </tr>\n",
       "    <tr>\n",
       "      <th>callType</th>\n",
       "      <th></th>\n",
       "      <th></th>\n",
       "      <th></th>\n",
       "      <th></th>\n",
       "      <th></th>\n",
       "    </tr>\n",
       "  </thead>\n",
       "  <tbody>\n",
       "    <tr>\n",
       "      <th>DISORDERLY</th>\n",
       "      <td>258</td>\n",
       "      <td>5</td>\n",
       "      <td>269150</td>\n",
       "      <td>1</td>\n",
       "      <td>1</td>\n",
       "    </tr>\n",
       "  </tbody>\n",
       "</table>\n",
       "</div>"
      ],
      "text/plain": [
       "priority    High  Low  Medium  Non-Emergency  Out of Service\n",
       "callType                                                    \n",
       "DISORDERLY   258    5  269150              1               1"
      ]
     },
     "execution_count": 18,
     "metadata": {},
     "output_type": "execute_result"
    }
   ],
   "source": [
    "##6b Empty/NaN/NULL #Determine what priority is likely for this callType >>> Medium\n",
    "dfPnull10 = df911[df911.callType =='DISORDERLY']\n",
    "pd.crosstab (dfPnull10.callType, dfPnull10.priority)"
   ]
  },
  {
   "cell_type": "code",
   "execution_count": 19,
   "metadata": {},
   "outputs": [
    {
     "data": {
      "text/html": [
       "<div>\n",
       "<style scoped>\n",
       "    .dataframe tbody tr th:only-of-type {\n",
       "        vertical-align: middle;\n",
       "    }\n",
       "\n",
       "    .dataframe tbody tr th {\n",
       "        vertical-align: top;\n",
       "    }\n",
       "\n",
       "    .dataframe thead th {\n",
       "        text-align: right;\n",
       "    }\n",
       "</style>\n",
       "<table border=\"1\" class=\"dataframe\">\n",
       "  <thead>\n",
       "    <tr style=\"text-align: right;\">\n",
       "      <th>priority</th>\n",
       "      <th>High</th>\n",
       "      <th>Medium</th>\n",
       "      <th>Out of Service</th>\n",
       "    </tr>\n",
       "    <tr>\n",
       "      <th>callType</th>\n",
       "      <th></th>\n",
       "      <th></th>\n",
       "      <th></th>\n",
       "    </tr>\n",
       "  </thead>\n",
       "  <tbody>\n",
       "    <tr>\n",
       "      <th>ARMED PERSON</th>\n",
       "      <td>23986</td>\n",
       "      <td>5</td>\n",
       "      <td>1</td>\n",
       "    </tr>\n",
       "  </tbody>\n",
       "</table>\n",
       "</div>"
      ],
      "text/plain": [
       "priority       High  Medium  Out of Service\n",
       "callType                                   \n",
       "ARMED PERSON  23986       5               1"
      ]
     },
     "execution_count": 19,
     "metadata": {},
     "output_type": "execute_result"
    }
   ],
   "source": [
    "##6b Empty/NaN/NULL #Determine what priority is likely for this callType >>> High\n",
    "dfPnull10 = df911[df911.callType =='ARMED PERSON']\n",
    "pd.crosstab (dfPnull10.callType, dfPnull10.priority)"
   ]
  },
  {
   "cell_type": "code",
   "execution_count": 20,
   "metadata": {},
   "outputs": [
    {
     "data": {
      "text/html": [
       "<div>\n",
       "<style scoped>\n",
       "    .dataframe tbody tr th:only-of-type {\n",
       "        vertical-align: middle;\n",
       "    }\n",
       "\n",
       "    .dataframe tbody tr th {\n",
       "        vertical-align: top;\n",
       "    }\n",
       "\n",
       "    .dataframe thead th {\n",
       "        text-align: right;\n",
       "    }\n",
       "</style>\n",
       "<table border=\"1\" class=\"dataframe\">\n",
       "  <thead>\n",
       "    <tr style=\"text-align: right;\">\n",
       "      <th>priority</th>\n",
       "      <th>High</th>\n",
       "      <th>Low</th>\n",
       "      <th>Medium</th>\n",
       "      <th>Out of Service</th>\n",
       "    </tr>\n",
       "    <tr>\n",
       "      <th>callType</th>\n",
       "      <th></th>\n",
       "      <th></th>\n",
       "      <th></th>\n",
       "      <th></th>\n",
       "    </tr>\n",
       "  </thead>\n",
       "  <tbody>\n",
       "    <tr>\n",
       "      <th>AGGRAV ASSAULT</th>\n",
       "      <td>22561</td>\n",
       "      <td>2</td>\n",
       "      <td>32</td>\n",
       "      <td>5</td>\n",
       "    </tr>\n",
       "  </tbody>\n",
       "</table>\n",
       "</div>"
      ],
      "text/plain": [
       "priority         High  Low  Medium  Out of Service\n",
       "callType                                          \n",
       "AGGRAV ASSAULT  22561    2      32               5"
      ]
     },
     "execution_count": 20,
     "metadata": {},
     "output_type": "execute_result"
    }
   ],
   "source": [
    "##6b Empty/NaN/NULL #Determine what priority is likely for this callType >>> High\n",
    "dfPnull10 = df911[df911.callType =='AGGRAV ASSAULT']\n",
    "pd.crosstab (dfPnull10.callType, dfPnull10.priority)"
   ]
  },
  {
   "cell_type": "code",
   "execution_count": 21,
   "metadata": {},
   "outputs": [
    {
     "data": {
      "text/html": [
       "<div>\n",
       "<style scoped>\n",
       "    .dataframe tbody tr th:only-of-type {\n",
       "        vertical-align: middle;\n",
       "    }\n",
       "\n",
       "    .dataframe tbody tr th {\n",
       "        vertical-align: top;\n",
       "    }\n",
       "\n",
       "    .dataframe thead th {\n",
       "        text-align: right;\n",
       "    }\n",
       "</style>\n",
       "<table border=\"1\" class=\"dataframe\">\n",
       "  <thead>\n",
       "    <tr style=\"text-align: right;\">\n",
       "      <th>priority</th>\n",
       "      <th>High</th>\n",
       "      <th>Low</th>\n",
       "      <th>Medium</th>\n",
       "      <th>Non-Emergency</th>\n",
       "      <th>Out of Service</th>\n",
       "    </tr>\n",
       "    <tr>\n",
       "      <th>callType</th>\n",
       "      <th></th>\n",
       "      <th></th>\n",
       "      <th></th>\n",
       "      <th></th>\n",
       "      <th></th>\n",
       "    </tr>\n",
       "  </thead>\n",
       "  <tbody>\n",
       "    <tr>\n",
       "      <th>LARCENCY</th>\n",
       "      <td>20</td>\n",
       "      <td>27283</td>\n",
       "      <td>1399</td>\n",
       "      <td>3</td>\n",
       "      <td>130</td>\n",
       "    </tr>\n",
       "  </tbody>\n",
       "</table>\n",
       "</div>"
      ],
      "text/plain": [
       "priority  High    Low  Medium  Non-Emergency  Out of Service\n",
       "callType                                                    \n",
       "LARCENCY    20  27283    1399              3             130"
      ]
     },
     "execution_count": 21,
     "metadata": {},
     "output_type": "execute_result"
    }
   ],
   "source": [
    "##6b Empty/NaN/NULL #Determine what priority is likely for this callType >>> Low\n",
    "dfPnull10 = df911[df911.callType =='LARCENCY'] #LARCENY\n",
    "pd.crosstab (dfPnull10.callType, dfPnull10.priority)"
   ]
  },
  {
   "cell_type": "code",
   "execution_count": 22,
   "metadata": {},
   "outputs": [
    {
     "data": {
      "text/html": [
       "<div>\n",
       "<style scoped>\n",
       "    .dataframe tbody tr th:only-of-type {\n",
       "        vertical-align: middle;\n",
       "    }\n",
       "\n",
       "    .dataframe tbody tr th {\n",
       "        vertical-align: top;\n",
       "    }\n",
       "\n",
       "    .dataframe thead th {\n",
       "        text-align: right;\n",
       "    }\n",
       "</style>\n",
       "<table border=\"1\" class=\"dataframe\">\n",
       "  <thead>\n",
       "    <tr style=\"text-align: right;\">\n",
       "      <th>priority</th>\n",
       "      <th>High</th>\n",
       "      <th>Low</th>\n",
       "      <th>Medium</th>\n",
       "      <th>Out of Service</th>\n",
       "    </tr>\n",
       "    <tr>\n",
       "      <th>callType</th>\n",
       "      <th></th>\n",
       "      <th></th>\n",
       "      <th></th>\n",
       "      <th></th>\n",
       "    </tr>\n",
       "  </thead>\n",
       "  <tbody>\n",
       "    <tr>\n",
       "      <th>DESTRUCT PROPTY</th>\n",
       "      <td>12</td>\n",
       "      <td>21849</td>\n",
       "      <td>863</td>\n",
       "      <td>12</td>\n",
       "    </tr>\n",
       "  </tbody>\n",
       "</table>\n",
       "</div>"
      ],
      "text/plain": [
       "priority         High    Low  Medium  Out of Service\n",
       "callType                                            \n",
       "DESTRUCT PROPTY    12  21849     863              12"
      ]
     },
     "execution_count": 22,
     "metadata": {},
     "output_type": "execute_result"
    }
   ],
   "source": [
    "##6b Empty/NaN/NULL #Determine what priority is likely for this callType >>> Low\n",
    "dfPnull10 = df911[df911.callType =='DESTRUCT PROPTY']\n",
    "pd.crosstab (dfPnull10.callType, dfPnull10.priority)"
   ]
  },
  {
   "cell_type": "code",
   "execution_count": 23,
   "metadata": {},
   "outputs": [
    {
     "data": {
      "text/html": [
       "<div>\n",
       "<style scoped>\n",
       "    .dataframe tbody tr th:only-of-type {\n",
       "        vertical-align: middle;\n",
       "    }\n",
       "\n",
       "    .dataframe tbody tr th {\n",
       "        vertical-align: top;\n",
       "    }\n",
       "\n",
       "    .dataframe thead th {\n",
       "        text-align: right;\n",
       "    }\n",
       "</style>\n",
       "<table border=\"1\" class=\"dataframe\">\n",
       "  <thead>\n",
       "    <tr style=\"text-align: right;\">\n",
       "      <th>priority</th>\n",
       "      <th>High</th>\n",
       "    </tr>\n",
       "    <tr>\n",
       "      <th>callType</th>\n",
       "      <th></th>\n",
       "    </tr>\n",
       "  </thead>\n",
       "  <tbody>\n",
       "    <tr>\n",
       "      <th>DISCHRG FIREARM</th>\n",
       "      <td>8404</td>\n",
       "    </tr>\n",
       "  </tbody>\n",
       "</table>\n",
       "</div>"
      ],
      "text/plain": [
       "priority         High\n",
       "callType             \n",
       "DISCHRG FIREARM  8404"
      ]
     },
     "execution_count": 23,
     "metadata": {},
     "output_type": "execute_result"
    }
   ],
   "source": [
    "##6b Empty/NaN/NULL #Determine what priority is likely for this callType >>> High\n",
    "dfPnull10 = df911[df911.callType =='DISCHRG FIREARM']\n",
    "pd.crosstab (dfPnull10.callType, dfPnull10.priority)"
   ]
  },
  {
   "cell_type": "code",
   "execution_count": 24,
   "metadata": {},
   "outputs": [
    {
     "data": {
      "text/html": [
       "<div>\n",
       "<style scoped>\n",
       "    .dataframe tbody tr th:only-of-type {\n",
       "        vertical-align: middle;\n",
       "    }\n",
       "\n",
       "    .dataframe tbody tr th {\n",
       "        vertical-align: top;\n",
       "    }\n",
       "\n",
       "    .dataframe thead th {\n",
       "        text-align: right;\n",
       "    }\n",
       "</style>\n",
       "<table border=\"1\" class=\"dataframe\">\n",
       "  <thead>\n",
       "    <tr style=\"text-align: right;\">\n",
       "      <th>priority</th>\n",
       "      <th>High</th>\n",
       "      <th>Low</th>\n",
       "      <th>Medium</th>\n",
       "      <th>Non-Emergency</th>\n",
       "    </tr>\n",
       "    <tr>\n",
       "      <th>callType</th>\n",
       "      <th></th>\n",
       "      <th></th>\n",
       "      <th></th>\n",
       "      <th></th>\n",
       "    </tr>\n",
       "  </thead>\n",
       "  <tbody>\n",
       "    <tr>\n",
       "      <th>FAMILY DISTURB</th>\n",
       "      <td>55</td>\n",
       "      <td>2</td>\n",
       "      <td>76383</td>\n",
       "      <td>1</td>\n",
       "    </tr>\n",
       "  </tbody>\n",
       "</table>\n",
       "</div>"
      ],
      "text/plain": [
       "priority        High  Low  Medium  Non-Emergency\n",
       "callType                                        \n",
       "FAMILY DISTURB    55    2   76383              1"
      ]
     },
     "execution_count": 24,
     "metadata": {},
     "output_type": "execute_result"
    }
   ],
   "source": [
    "##6b Empty/NaN/NULL #Determine what priority is likely for this callType >>> Medium\n",
    "dfPnull10 = df911[df911.callType =='FAMILY DISTURB']\n",
    "pd.crosstab (dfPnull10.callType, dfPnull10.priority)"
   ]
  },
  {
   "cell_type": "code",
   "execution_count": 25,
   "metadata": {},
   "outputs": [
    {
     "data": {
      "text/html": [
       "<div>\n",
       "<style scoped>\n",
       "    .dataframe tbody tr th:only-of-type {\n",
       "        vertical-align: middle;\n",
       "    }\n",
       "\n",
       "    .dataframe tbody tr th {\n",
       "        vertical-align: top;\n",
       "    }\n",
       "\n",
       "    .dataframe thead th {\n",
       "        text-align: right;\n",
       "    }\n",
       "</style>\n",
       "<table border=\"1\" class=\"dataframe\">\n",
       "  <thead>\n",
       "    <tr style=\"text-align: right;\">\n",
       "      <th>priority</th>\n",
       "      <th>High</th>\n",
       "      <th>Low</th>\n",
       "      <th>Medium</th>\n",
       "      <th>Non-Emergency</th>\n",
       "      <th>Out of Service</th>\n",
       "    </tr>\n",
       "    <tr>\n",
       "      <th>callType</th>\n",
       "      <th></th>\n",
       "      <th></th>\n",
       "      <th></th>\n",
       "      <th></th>\n",
       "      <th></th>\n",
       "    </tr>\n",
       "  </thead>\n",
       "  <tbody>\n",
       "    <tr>\n",
       "      <th>HIT AND RUN</th>\n",
       "      <td>44</td>\n",
       "      <td>55422</td>\n",
       "      <td>1723</td>\n",
       "      <td>2</td>\n",
       "      <td>2</td>\n",
       "    </tr>\n",
       "  </tbody>\n",
       "</table>\n",
       "</div>"
      ],
      "text/plain": [
       "priority     High    Low  Medium  Non-Emergency  Out of Service\n",
       "callType                                                       \n",
       "HIT AND RUN    44  55422    1723              2               2"
      ]
     },
     "execution_count": 25,
     "metadata": {},
     "output_type": "execute_result"
    }
   ],
   "source": [
    "##6b Empty/NaN/NULL #Determine what priority is likely for this callType >>> Low\n",
    "dfPnull10 = df911[df911.callType =='HIT AND RUN']\n",
    "pd.crosstab (dfPnull10.callType, dfPnull10.priority)"
   ]
  },
  {
   "cell_type": "code",
   "execution_count": 26,
   "metadata": {},
   "outputs": [],
   "source": [
    "##6b2 Empty/NaN/NULL \n",
    "#Now, set those priority Null values to those observed above.\n",
    "cList = ['COMMON ASSAULT','BURGLARY','DISORDERLY','ARMED PERSON','AGGRAV ASSAULT', \n",
    "            'LARCENCY','DESTRUCT PROPTY','DISCHRG FIREARM','FAMILY DISTURB','HIT AND RUN']\n",
    "cPrio = ['Medium','Medium','Medium', 'High','High',\n",
    "         'Low','Low', 'High','Medium','Low']\n",
    "for ii in range(10):\n",
    "    rx = (df911.callType == cList[ii]) & df911.priority.isnull()\n",
    "    df911.loc[rx, 'priority'] = cPrio[ii]"
   ]
  },
  {
   "cell_type": "code",
   "execution_count": 27,
   "metadata": {},
   "outputs": [
    {
     "data": {
      "text/plain": [
       "SUSPICIOUS PERS     102\n",
       "ROBBERY ARMED        98\n",
       "NARCOTICSOutside     94\n",
       "SILENT ALARM         86\n",
       "AUTO THEFT           72\n",
       "AUTO ACCIDENT        70\n",
       "LARCENY F/AUTO       62\n",
       "MENTAL CASE          53\n",
       "JUV DISTURBANCE      49\n",
       "DWI                  45\n",
       "Name: callType, dtype: int64"
      ]
     },
     "execution_count": 27,
     "metadata": {},
     "output_type": "execute_result"
    }
   ],
   "source": [
    "dfPnull = df911[df911.priority.isnull()] #Empty/NaN/NULL ; 3562 >> 1295 = not part of the top 10 above\n",
    "dfPnull.callType.value_counts().head(10) #priority NaN =#3123855 -3122560 =6655; 3123855>>3122560\n",
    "#SUSPICIOUS PERS     102  COMMON ASSAULT     1883\n",
    "#ROBBERY ARMED        98  BURGLARY           1106\n",
    "#NARCOTICSOutside     94  DISORDERLY          708\n",
    "#SILENT ALARM         86  ARMED PERSON        338\n",
    "#AUTO THEFT           72  AGGRAV ASSAULT      296\n",
    "#AUTO ACCIDENT        70  LARCENCY            253\n",
    "#LARCENY F/AUTO       62  DESTRUCT PROPTY     253\n",
    "#MENTAL CASE          53  DISCHRG FIREARM     216\n",
    "#JUV DISTURBANCE      49  FAMILY DISTURB      203\n",
    "#DWI                  45  HIT AND RUN         104"
   ]
  },
  {
   "cell_type": "markdown",
   "metadata": {},
   "source": [
    "##6c Uppercase/Lowercase, extra spaces, wrong spelling - make all CallTypes Upper() #chk re#\n",
    "##6d Data error (priority = ['Out of Service', 'Emergency'])\n",
    "##6e Work only on top 5 district\n",
    "##6f Work only on top 4 priority \n",
    "##6g Work only on top 5 callType"
   ]
  },
  {
   "cell_type": "code",
   "execution_count": 28,
   "metadata": {},
   "outputs": [],
   "source": [
    "##6c Uppercase/Lowercase, extra spaces, wrong spelling, data entry error #CHK RE##\n",
    "df911.callType = df911.callType.str.upper()\n",
    "\n",
    "df911.callType = df911.callType.str.replace(\"LARCENCY\", \"LARCENY\") #\n",
    "df911.callType = df911.callType.str.replace(\"  \", \" \") #608034, 237, 7 >>> 3x\n",
    "df911.callType = df911.callType.str.replace(\"  \", \" \") #608034, 237, 7 >>> 3x\n",
    "df911.callType = df911.callType.str.replace(\"  \", \" \") #608034, 237, 7 >>> 3x"
   ]
  },
  {
   "cell_type": "code",
   "execution_count": 29,
   "metadata": {},
   "outputs": [
    {
     "data": {
      "text/plain": [
       "911/NO VOICE      528054\n",
       "DISORDERLY        281392\n",
       "TRAFFIC STOP      185930\n",
       "COMMON ASSAULT    140869\n",
       "AUTO ACCIDENT     131088\n",
       "Name: callType, dtype: int64"
      ]
     },
     "execution_count": 29,
     "metadata": {},
     "output_type": "execute_result"
    }
   ],
   "source": [
    "##6d Data error (priority = ['Out of Service', 'Emergency']) #\n",
    "df911 = df911[df911.priority !='Out of Service']        #need to drop this priority r=880\n",
    "df911.priority.replace('Emergency','High',inplace=True) #re-tag as High. r=492913+1120 =494033 High\n",
    "\n",
    "df911.callType.value_counts().head(5) #chk"
   ]
  },
  {
   "cell_type": "markdown",
   "metadata": {},
   "source": [
    "#### Base df = df911\n",
    "##6e dfDistrict. Top 5 district only: [01/2015, 01/2016, 01/2017]=highest priority call/dist\n",
    "##6f dfPriority. Top 4 priority only: [01/2015 - 12/2017]\n",
    "##6g dfCallType. Top 5 callType only: [01/2015, 01/2016, 01/2017]"
   ]
  },
  {
   "cell_type": "code",
   "execution_count": 30,
   "metadata": {},
   "outputs": [
    {
     "data": {
      "text/plain": [
       "(84404, 7)"
      ]
     },
     "execution_count": 30,
     "metadata": {},
     "output_type": "execute_result"
    }
   ],
   "source": [
    "##6e dfDistrict. Top 5 district: [01/2015, 01/2016, 01/2017] = highest priority call/district\n",
    "df9115 = df911.loc[(df911.dT >= '2015-01') & (df911.dT < '2015-02')] # 83994;\n",
    "df9116 = df911.loc[(df911.dT >= '2016-01') & (df911.dT < '2016-02')] # 80087; \n",
    "df9117 = df911.loc[(df911.dT >= '2017-01') & (df911.dT < '2017-02')] # 84422; \n",
    "df9117.shape #chk (84422, 7), priority 3122560/3123855"
   ]
  },
  {
   "cell_type": "code",
   "execution_count": 31,
   "metadata": {},
   "outputs": [
    {
     "data": {
      "text/html": [
       "<div>\n",
       "<style scoped>\n",
       "    .dataframe tbody tr th:only-of-type {\n",
       "        vertical-align: middle;\n",
       "    }\n",
       "\n",
       "    .dataframe tbody tr th {\n",
       "        vertical-align: top;\n",
       "    }\n",
       "\n",
       "    .dataframe thead th {\n",
       "        text-align: right;\n",
       "    }\n",
       "</style>\n",
       "<table border=\"1\" class=\"dataframe\">\n",
       "  <thead>\n",
       "    <tr style=\"text-align: right;\">\n",
       "      <th></th>\n",
       "      <th>priority</th>\n",
       "      <th>district</th>\n",
       "      <th>yr</th>\n",
       "      <th>dy</th>\n",
       "    </tr>\n",
       "  </thead>\n",
       "  <tbody>\n",
       "    <tr>\n",
       "      <th>1106565</th>\n",
       "      <td>High</td>\n",
       "      <td>NW</td>\n",
       "      <td>2015</td>\n",
       "      <td>1</td>\n",
       "    </tr>\n",
       "    <tr>\n",
       "      <th>357881</th>\n",
       "      <td>High</td>\n",
       "      <td>SW</td>\n",
       "      <td>2015</td>\n",
       "      <td>1</td>\n",
       "    </tr>\n",
       "    <tr>\n",
       "      <th>359340</th>\n",
       "      <td>High</td>\n",
       "      <td>SW</td>\n",
       "      <td>2015</td>\n",
       "      <td>1</td>\n",
       "    </tr>\n",
       "    <tr>\n",
       "      <th>358628</th>\n",
       "      <td>High</td>\n",
       "      <td>NE</td>\n",
       "      <td>2015</td>\n",
       "      <td>1</td>\n",
       "    </tr>\n",
       "    <tr>\n",
       "      <th>360087</th>\n",
       "      <td>High</td>\n",
       "      <td>WD</td>\n",
       "      <td>2015</td>\n",
       "      <td>1</td>\n",
       "    </tr>\n",
       "  </tbody>\n",
       "</table>\n",
       "</div>"
      ],
      "text/plain": [
       "        priority district    yr  dy\n",
       "1106565     High       NW  2015   1\n",
       "357881      High       SW  2015   1\n",
       "359340      High       SW  2015   1\n",
       "358628      High       NE  2015   1\n",
       "360087      High       WD  2015   1"
      ]
     },
     "execution_count": 31,
     "metadata": {},
     "output_type": "execute_result"
    }
   ],
   "source": [
    "dfCallTypeDist = pd.concat([df9115, df9116, df9117]) # 248503 [01/2015, 01/2016, 01/2017]\n",
    "\n",
    "dfCallType = pd.DataFrame(dfCallTypeDist, columns=['callType', 'priority', 'district','yr', 'dy'])\n",
    "\n",
    "dfDistrict = pd.DataFrame(dfCallTypeDist, columns=['priority', 'district','yr', 'dy'])\n",
    "dfDistrict =dfDistrict[dfDistrict.priority =='High'] #ONLY need HIGH. dfDistrict=BASIS\n",
    "dfDistrict.head() #chk"
   ]
  },
  {
   "cell_type": "code",
   "execution_count": 32,
   "metadata": {},
   "outputs": [
    {
     "data": {
      "text/plain": [
       "(37852, 4)"
      ]
     },
     "execution_count": 32,
     "metadata": {},
     "output_type": "execute_result"
    }
   ],
   "source": [
    "##6e Check dfDistrict shape, and the top 9 of each year (2015, 2016, 2017)\n",
    "dfDistrict.shape # (248503, 5) >>>(37852, 4) High only 37790, for Top 9 = (37671, 4)"
   ]
  },
  {
   "cell_type": "code",
   "execution_count": 33,
   "metadata": {},
   "outputs": [
    {
     "data": {
      "text/html": [
       "<div>\n",
       "<style scoped>\n",
       "    .dataframe tbody tr th:only-of-type {\n",
       "        vertical-align: middle;\n",
       "    }\n",
       "\n",
       "    .dataframe tbody tr th {\n",
       "        vertical-align: top;\n",
       "    }\n",
       "\n",
       "    .dataframe thead th {\n",
       "        text-align: right;\n",
       "    }\n",
       "</style>\n",
       "<table border=\"1\" class=\"dataframe\">\n",
       "  <thead>\n",
       "    <tr style=\"text-align: right;\">\n",
       "      <th>District</th>\n",
       "      <th>CD</th>\n",
       "      <th>CW</th>\n",
       "      <th>ED</th>\n",
       "      <th>INFO</th>\n",
       "      <th>ND</th>\n",
       "      <th>NE</th>\n",
       "      <th>NW</th>\n",
       "      <th>SD</th>\n",
       "      <th>SE</th>\n",
       "      <th>SS</th>\n",
       "      <th>SW</th>\n",
       "      <th>TRU</th>\n",
       "      <th>WD</th>\n",
       "      <th>&lt;TOTAL&gt;</th>\n",
       "    </tr>\n",
       "    <tr>\n",
       "      <th>Jan/Year</th>\n",
       "      <th></th>\n",
       "      <th></th>\n",
       "      <th></th>\n",
       "      <th></th>\n",
       "      <th></th>\n",
       "      <th></th>\n",
       "      <th></th>\n",
       "      <th></th>\n",
       "      <th></th>\n",
       "      <th></th>\n",
       "      <th></th>\n",
       "      <th></th>\n",
       "      <th></th>\n",
       "      <th></th>\n",
       "    </tr>\n",
       "  </thead>\n",
       "  <tbody>\n",
       "    <tr>\n",
       "      <th>2015</th>\n",
       "      <td>714</td>\n",
       "      <td>19</td>\n",
       "      <td>639</td>\n",
       "      <td>0</td>\n",
       "      <td>966</td>\n",
       "      <td>1150</td>\n",
       "      <td>813</td>\n",
       "      <td>823</td>\n",
       "      <td>806</td>\n",
       "      <td>16</td>\n",
       "      <td>758</td>\n",
       "      <td>0</td>\n",
       "      <td>607</td>\n",
       "      <td>7311</td>\n",
       "    </tr>\n",
       "    <tr>\n",
       "      <th>2016</th>\n",
       "      <td>1567</td>\n",
       "      <td>18</td>\n",
       "      <td>1404</td>\n",
       "      <td>4</td>\n",
       "      <td>1509</td>\n",
       "      <td>2447</td>\n",
       "      <td>1335</td>\n",
       "      <td>1595</td>\n",
       "      <td>2122</td>\n",
       "      <td>18</td>\n",
       "      <td>1335</td>\n",
       "      <td>1</td>\n",
       "      <td>1400</td>\n",
       "      <td>14755</td>\n",
       "    </tr>\n",
       "    <tr>\n",
       "      <th>2017</th>\n",
       "      <td>1589</td>\n",
       "      <td>21</td>\n",
       "      <td>1414</td>\n",
       "      <td>0</td>\n",
       "      <td>1478</td>\n",
       "      <td>2221</td>\n",
       "      <td>1320</td>\n",
       "      <td>1872</td>\n",
       "      <td>2251</td>\n",
       "      <td>21</td>\n",
       "      <td>1728</td>\n",
       "      <td>1</td>\n",
       "      <td>1870</td>\n",
       "      <td>15786</td>\n",
       "    </tr>\n",
       "    <tr>\n",
       "      <th>&lt;TOTAL&gt;</th>\n",
       "      <td>3870</td>\n",
       "      <td>58</td>\n",
       "      <td>3457</td>\n",
       "      <td>4</td>\n",
       "      <td>3953</td>\n",
       "      <td>5818</td>\n",
       "      <td>3468</td>\n",
       "      <td>4290</td>\n",
       "      <td>5179</td>\n",
       "      <td>55</td>\n",
       "      <td>3821</td>\n",
       "      <td>2</td>\n",
       "      <td>3877</td>\n",
       "      <td>37852</td>\n",
       "    </tr>\n",
       "  </tbody>\n",
       "</table>\n",
       "</div>"
      ],
      "text/plain": [
       "District    CD  CW    ED  INFO    ND    NE    NW    SD    SE  SS    SW  TRU  \\\n",
       "Jan/Year                                                                      \n",
       "2015       714  19   639     0   966  1150   813   823   806  16   758    0   \n",
       "2016      1567  18  1404     4  1509  2447  1335  1595  2122  18  1335    1   \n",
       "2017      1589  21  1414     0  1478  2221  1320  1872  2251  21  1728    1   \n",
       "<TOTAL>   3870  58  3457     4  3953  5818  3468  4290  5179  55  3821    2   \n",
       "\n",
       "District    WD  <TOTAL>  \n",
       "Jan/Year                 \n",
       "2015       607     7311  \n",
       "2016      1400    14755  \n",
       "2017      1870    15786  \n",
       "<TOTAL>   3877    37852  "
      ]
     },
     "execution_count": 33,
     "metadata": {},
     "output_type": "execute_result"
    }
   ],
   "source": [
    "##6e By observation, there are 4 districts ['CW','INFO','SS','TRU'] with insignificant values.\n",
    "#Remove the lowest 4 districts from the set and work on the top 9 districts.\n",
    "pd.crosstab(dfDistrict.yr, dfDistrict.district, rownames=['Jan/Year'], \n",
    "        colnames=['District'], margins=True, margins_name='<TOTAL>')\n",
    "\n",
    "#!use dfDistrict[dfDistrict.yr==2015].district.value_counts().head(9)\n",
    "#XXX dfDistrict.district.value_counts() = ^sorted"
   ]
  },
  {
   "cell_type": "code",
   "execution_count": 34,
   "metadata": {
    "scrolled": true
   },
   "outputs": [
    {
     "data": {
      "text/html": [
       "<div>\n",
       "<style scoped>\n",
       "    .dataframe tbody tr th:only-of-type {\n",
       "        vertical-align: middle;\n",
       "    }\n",
       "\n",
       "    .dataframe tbody tr th {\n",
       "        vertical-align: top;\n",
       "    }\n",
       "\n",
       "    .dataframe thead th {\n",
       "        text-align: right;\n",
       "    }\n",
       "</style>\n",
       "<table border=\"1\" class=\"dataframe\">\n",
       "  <thead>\n",
       "    <tr style=\"text-align: right;\">\n",
       "      <th>District</th>\n",
       "      <th>CD</th>\n",
       "      <th>ED</th>\n",
       "      <th>ND</th>\n",
       "      <th>NE</th>\n",
       "      <th>NW</th>\n",
       "      <th>SD</th>\n",
       "      <th>SE</th>\n",
       "      <th>SW</th>\n",
       "      <th>WD</th>\n",
       "      <th>&lt;TOTAL&gt;</th>\n",
       "    </tr>\n",
       "    <tr>\n",
       "      <th>Jan/Year</th>\n",
       "      <th></th>\n",
       "      <th></th>\n",
       "      <th></th>\n",
       "      <th></th>\n",
       "      <th></th>\n",
       "      <th></th>\n",
       "      <th></th>\n",
       "      <th></th>\n",
       "      <th></th>\n",
       "      <th></th>\n",
       "    </tr>\n",
       "  </thead>\n",
       "  <tbody>\n",
       "    <tr>\n",
       "      <th>2015</th>\n",
       "      <td>714</td>\n",
       "      <td>639</td>\n",
       "      <td>966</td>\n",
       "      <td>1150</td>\n",
       "      <td>813</td>\n",
       "      <td>823</td>\n",
       "      <td>806</td>\n",
       "      <td>758</td>\n",
       "      <td>607</td>\n",
       "      <td>7276</td>\n",
       "    </tr>\n",
       "    <tr>\n",
       "      <th>2016</th>\n",
       "      <td>1567</td>\n",
       "      <td>1404</td>\n",
       "      <td>1509</td>\n",
       "      <td>2447</td>\n",
       "      <td>1335</td>\n",
       "      <td>1595</td>\n",
       "      <td>2122</td>\n",
       "      <td>1335</td>\n",
       "      <td>1400</td>\n",
       "      <td>14714</td>\n",
       "    </tr>\n",
       "    <tr>\n",
       "      <th>2017</th>\n",
       "      <td>1589</td>\n",
       "      <td>1414</td>\n",
       "      <td>1478</td>\n",
       "      <td>2221</td>\n",
       "      <td>1320</td>\n",
       "      <td>1872</td>\n",
       "      <td>2251</td>\n",
       "      <td>1728</td>\n",
       "      <td>1870</td>\n",
       "      <td>15743</td>\n",
       "    </tr>\n",
       "    <tr>\n",
       "      <th>&lt;TOTAL&gt;</th>\n",
       "      <td>3870</td>\n",
       "      <td>3457</td>\n",
       "      <td>3953</td>\n",
       "      <td>5818</td>\n",
       "      <td>3468</td>\n",
       "      <td>4290</td>\n",
       "      <td>5179</td>\n",
       "      <td>3821</td>\n",
       "      <td>3877</td>\n",
       "      <td>37733</td>\n",
       "    </tr>\n",
       "  </tbody>\n",
       "</table>\n",
       "</div>"
      ],
      "text/plain": [
       "District    CD    ED    ND    NE    NW    SD    SE    SW    WD  <TOTAL>\n",
       "Jan/Year                                                               \n",
       "2015       714   639   966  1150   813   823   806   758   607     7276\n",
       "2016      1567  1404  1509  2447  1335  1595  2122  1335  1400    14714\n",
       "2017      1589  1414  1478  2221  1320  1872  2251  1728  1870    15743\n",
       "<TOTAL>   3870  3457  3953  5818  3468  4290  5179  3821  3877    37733"
      ]
     },
     "execution_count": 34,
     "metadata": {},
     "output_type": "execute_result"
    }
   ],
   "source": [
    "# Most <High> Priority Calls/District for 3 Years on the Month of January\n",
    "dfDistrict = dfDistrict[~dfDistrict.district.isin(['CW','INFO','SS','TRU'])]\n",
    "dfCT = pd.crosstab(dfDistrict.yr, dfDistrict.district, rownames=['Jan/Year'], \n",
    "        colnames=['District'], margins=True, margins_name='<TOTAL>')\n",
    "dfCT"
   ]
  },
  {
   "cell_type": "code",
   "execution_count": 35,
   "metadata": {
    "scrolled": true
   },
   "outputs": [
    {
     "data": {
      "text/html": [
       "<div>\n",
       "<style scoped>\n",
       "    .dataframe tbody tr th:only-of-type {\n",
       "        vertical-align: middle;\n",
       "    }\n",
       "\n",
       "    .dataframe tbody tr th {\n",
       "        vertical-align: top;\n",
       "    }\n",
       "\n",
       "    .dataframe thead tr th {\n",
       "        text-align: left;\n",
       "    }\n",
       "\n",
       "    .dataframe thead tr:last-of-type th {\n",
       "        text-align: right;\n",
       "    }\n",
       "</style>\n",
       "<table border=\"1\" class=\"dataframe\">\n",
       "  <thead>\n",
       "    <tr>\n",
       "      <th></th>\n",
       "      <th colspan=\"9\" halign=\"left\">priority</th>\n",
       "    </tr>\n",
       "    <tr>\n",
       "      <th>district</th>\n",
       "      <th>CD</th>\n",
       "      <th>ED</th>\n",
       "      <th>ND</th>\n",
       "      <th>NE</th>\n",
       "      <th>NW</th>\n",
       "      <th>SD</th>\n",
       "      <th>SE</th>\n",
       "      <th>SW</th>\n",
       "      <th>WD</th>\n",
       "    </tr>\n",
       "    <tr>\n",
       "      <th>yr</th>\n",
       "      <th></th>\n",
       "      <th></th>\n",
       "      <th></th>\n",
       "      <th></th>\n",
       "      <th></th>\n",
       "      <th></th>\n",
       "      <th></th>\n",
       "      <th></th>\n",
       "      <th></th>\n",
       "    </tr>\n",
       "  </thead>\n",
       "  <tbody>\n",
       "    <tr>\n",
       "      <th>2015</th>\n",
       "      <td>714</td>\n",
       "      <td>639</td>\n",
       "      <td>966</td>\n",
       "      <td>1150</td>\n",
       "      <td>813</td>\n",
       "      <td>823</td>\n",
       "      <td>806</td>\n",
       "      <td>758</td>\n",
       "      <td>607</td>\n",
       "    </tr>\n",
       "    <tr>\n",
       "      <th>2016</th>\n",
       "      <td>1567</td>\n",
       "      <td>1404</td>\n",
       "      <td>1509</td>\n",
       "      <td>2447</td>\n",
       "      <td>1335</td>\n",
       "      <td>1595</td>\n",
       "      <td>2122</td>\n",
       "      <td>1335</td>\n",
       "      <td>1400</td>\n",
       "    </tr>\n",
       "    <tr>\n",
       "      <th>2017</th>\n",
       "      <td>1589</td>\n",
       "      <td>1414</td>\n",
       "      <td>1478</td>\n",
       "      <td>2221</td>\n",
       "      <td>1320</td>\n",
       "      <td>1872</td>\n",
       "      <td>2251</td>\n",
       "      <td>1728</td>\n",
       "      <td>1870</td>\n",
       "    </tr>\n",
       "  </tbody>\n",
       "</table>\n",
       "</div>"
      ],
      "text/plain": [
       "         priority                                                \n",
       "district       CD    ED    ND    NE    NW    SD    SE    SW    WD\n",
       "yr                                                               \n",
       "2015          714   639   966  1150   813   823   806   758   607\n",
       "2016         1567  1404  1509  2447  1335  1595  2122  1335  1400\n",
       "2017         1589  1414  1478  2221  1320  1872  2251  1728  1870"
      ]
     },
     "execution_count": 35,
     "metadata": {},
     "output_type": "execute_result"
    }
   ],
   "source": [
    "# Most <High> Priority Calls/District for 3 Years on the Month of January.\n",
    "dfDistrict.pivot_table(index=['yr'], columns=['district'], values=['priority']\n",
    "    , aggfunc='count', fill_value=0) # Pivot table validates ok."
   ]
  },
  {
   "cell_type": "markdown",
   "metadata": {},
   "source": [
    "##6f Top 4 priority for 3 years: [01/2015 - 12/2017], priority district callType dT yr mo dy"
   ]
  },
  {
   "cell_type": "code",
   "execution_count": 36,
   "metadata": {},
   "outputs": [
    {
     "data": {
      "text/plain": [
       "(3122975, 7)"
      ]
     },
     "execution_count": 36,
     "metadata": {},
     "output_type": "execute_result"
    }
   ],
   "source": [
    "##6f dfPriority. Top 4 priority: (3122975, 7)\n",
    "dfPriority = df911.copy() \n",
    "dfPriority.shape"
   ]
  },
  {
   "cell_type": "code",
   "execution_count": 37,
   "metadata": {},
   "outputs": [
    {
     "data": {
      "text/plain": [
       "Medium           1559689\n",
       "Low               706512\n",
       "High              494883\n",
       "Non-Emergency     360596\n",
       "Name: priority, dtype: int64"
      ]
     },
     "execution_count": 37,
     "metadata": {},
     "output_type": "execute_result"
    }
   ],
   "source": [
    "dfPriority.priority.value_counts()\n",
    "#Medium            1561149 1559689\n",
    "#Low                705902 706512\n",
    "#High               492913 494883\n",
    "#Non-Emergency      360596 360596\n",
    "#Emergency            1120\n",
    "#Out of Service        880"
   ]
  },
  {
   "cell_type": "code",
   "execution_count": 38,
   "metadata": {},
   "outputs": [
    {
     "data": {
      "text/plain": [
       "Medium           1559689\n",
       "Low               706512\n",
       "High              494883\n",
       "Non-Emergency     360596\n",
       "Name: priority, dtype: int64"
      ]
     },
     "execution_count": 38,
     "metadata": {},
     "output_type": "execute_result"
    }
   ],
   "source": [
    "##6f Need to make a decision here: \n",
    "###1) Drop all priority='Out of Service', \n",
    "###2) Move priority 'Emergency' to the 'High' bin. \n",
    "\n",
    "dfPriority = dfPriority[dfPriority.priority !='Out of Service']  # r=880 \n",
    "dfPriority.priority.value_counts()"
   ]
  },
  {
   "cell_type": "code",
   "execution_count": 39,
   "metadata": {},
   "outputs": [
    {
     "data": {
      "text/plain": [
       "Medium           1559689\n",
       "Low               706512\n",
       "High              494883\n",
       "Non-Emergency     360596\n",
       "Name: priority, dtype: int64"
      ]
     },
     "execution_count": 39,
     "metadata": {},
     "output_type": "execute_result"
    }
   ],
   "source": [
    "##6f ###2) Move priority 'Emergency' to the 'High' bin. \n",
    "dfPriority.priority.replace('Emergency', 'High', inplace=True)   # r=492913 + 1120 = 494033 High\n",
    "dfPriority.priority.value_counts()"
   ]
  },
  {
   "cell_type": "code",
   "execution_count": 40,
   "metadata": {},
   "outputs": [
    {
     "data": {
      "text/plain": [
       "[Text(0,0.5,'No. of Calls'),\n",
       " Text(0.5,0,'Year'),\n",
       " Text(0.5,1,'No. of Police Calls/Year Grouped by Priority')]"
      ]
     },
     "execution_count": 40,
     "metadata": {},
     "output_type": "execute_result"
    },
    {
     "data": {
      "image/png": "[encoded data removed]",
      "text/plain": [
       "<matplotlib.figure.Figure at 0x1b868e0a550>"
      ]
     },
     "metadata": {},
     "output_type": "display_data"
    }
   ],
   "source": [
    "##6f Top 4 priority: [01/2015 - 12/2017], crosstab\n",
    "ct = pd.crosstab(dfPriority.yr, dfPriority.priority)\n",
    "tt = 'No. of Police Calls/Year Grouped by Priority'\n",
    "stacked = ct.stack().reset_index().rename(columns={0:'val'})\n",
    "bp = sns.barplot(x=stacked.yr, y=stacked.val, hue=stacked.priority)\n",
    "bp.set(xlabel='Year', ylabel='No. of Calls', title=tt)"
   ]
  },
  {
   "cell_type": "code",
   "execution_count": 41,
   "metadata": {},
   "outputs": [
    {
     "data": {
      "image/png": "[encoded data removed]",
      "text/plain": [
       "<matplotlib.figure.Figure at 0x1b832173cc0>"
      ]
     },
     "metadata": {},
     "output_type": "display_data"
    }
   ],
   "source": [
    "tt = 'Percentage of Priority Calls/Year (Month of January)'\n",
    "ct = pd.crosstab(index=[dfPriority.yr], columns=dfPriority.priority,\n",
    "            rownames=['Year'], colnames=['Priority'])\n",
    "plt.figure(figsize=(10,2))\n",
    "plt.title(tt)\n",
    "\n",
    "ax = sns.heatmap(pd.crosstab([dfPriority.yr], [dfPriority.priority], normalize='index')\n",
    "    , yticklabels=1, cmap=\"YlGnBu\", annot=True, cbar=True, linewidths=.5)"
   ]
  },
  {
   "cell_type": "code",
   "execution_count": 42,
   "metadata": {
    "scrolled": true
   },
   "outputs": [
    {
     "data": {
      "image/png": "[encoded data removed]",
      "text/plain": [
       "<matplotlib.figure.Figure at 0x1b824bbf0f0>"
      ]
     },
     "metadata": {},
     "output_type": "display_data"
    }
   ],
   "source": [
    "tt = 'No. of Priority Calls/Year (Month of January)'\n",
    "plt.figure(figsize=(10,2))\n",
    "plt.title(tt)\n",
    "ax = sns.heatmap(pd.crosstab([dfPriority.yr], [dfPriority.priority]), yticklabels=1\n",
    "    , cmap=\"YlGnBu\", annot=True, cbar=True, linewidths=.5, fmt=',.0f', cbar_kws={'format': '%.0f'})"
   ]
  },
  {
   "cell_type": "markdown",
   "metadata": {},
   "source": [
    "##6f Monthly Calls/Year Grouped by Priority"
   ]
  },
  {
   "cell_type": "code",
   "execution_count": 43,
   "metadata": {},
   "outputs": [
    {
     "data": {
      "text/html": [
       "<div>\n",
       "<style scoped>\n",
       "    .dataframe tbody tr th:only-of-type {\n",
       "        vertical-align: middle;\n",
       "    }\n",
       "\n",
       "    .dataframe tbody tr th {\n",
       "        vertical-align: top;\n",
       "    }\n",
       "\n",
       "    .dataframe thead th {\n",
       "        text-align: right;\n",
       "    }\n",
       "</style>\n",
       "<table border=\"1\" class=\"dataframe\">\n",
       "  <thead>\n",
       "    <tr style=\"text-align: right;\">\n",
       "      <th></th>\n",
       "      <th></th>\n",
       "      <th></th>\n",
       "      <th>district</th>\n",
       "      <th>callType</th>\n",
       "      <th>dT</th>\n",
       "      <th>dy</th>\n",
       "    </tr>\n",
       "    <tr>\n",
       "      <th>yr</th>\n",
       "      <th>mo</th>\n",
       "      <th>priority</th>\n",
       "      <th></th>\n",
       "      <th></th>\n",
       "      <th></th>\n",
       "      <th></th>\n",
       "    </tr>\n",
       "  </thead>\n",
       "  <tbody>\n",
       "    <tr>\n",
       "      <th rowspan=\"9\" valign=\"top\">2015</th>\n",
       "      <th rowspan=\"4\" valign=\"top\">1</th>\n",
       "      <th>High</th>\n",
       "      <td>7311</td>\n",
       "      <td>7311</td>\n",
       "      <td>7311</td>\n",
       "      <td>7311</td>\n",
       "    </tr>\n",
       "    <tr>\n",
       "      <th>Low</th>\n",
       "      <td>28262</td>\n",
       "      <td>28262</td>\n",
       "      <td>28262</td>\n",
       "      <td>28262</td>\n",
       "    </tr>\n",
       "    <tr>\n",
       "      <th>Medium</th>\n",
       "      <td>36870</td>\n",
       "      <td>36870</td>\n",
       "      <td>36870</td>\n",
       "      <td>36870</td>\n",
       "    </tr>\n",
       "    <tr>\n",
       "      <th>Non-Emergency</th>\n",
       "      <td>11414</td>\n",
       "      <td>11414</td>\n",
       "      <td>11414</td>\n",
       "      <td>11414</td>\n",
       "    </tr>\n",
       "    <tr>\n",
       "      <th rowspan=\"4\" valign=\"top\">2</th>\n",
       "      <th>High</th>\n",
       "      <td>6330</td>\n",
       "      <td>6330</td>\n",
       "      <td>6330</td>\n",
       "      <td>6330</td>\n",
       "    </tr>\n",
       "    <tr>\n",
       "      <th>Low</th>\n",
       "      <td>28912</td>\n",
       "      <td>28912</td>\n",
       "      <td>28912</td>\n",
       "      <td>28912</td>\n",
       "    </tr>\n",
       "    <tr>\n",
       "      <th>Medium</th>\n",
       "      <td>32589</td>\n",
       "      <td>32589</td>\n",
       "      <td>32589</td>\n",
       "      <td>32589</td>\n",
       "    </tr>\n",
       "    <tr>\n",
       "      <th>Non-Emergency</th>\n",
       "      <td>11741</td>\n",
       "      <td>11741</td>\n",
       "      <td>11741</td>\n",
       "      <td>11741</td>\n",
       "    </tr>\n",
       "    <tr>\n",
       "      <th>3</th>\n",
       "      <th>High</th>\n",
       "      <td>16345</td>\n",
       "      <td>16345</td>\n",
       "      <td>16345</td>\n",
       "      <td>16345</td>\n",
       "    </tr>\n",
       "  </tbody>\n",
       "</table>\n",
       "</div>"
      ],
      "text/plain": [
       "                       district  callType     dT     dy\n",
       "yr   mo priority                                       \n",
       "2015 1  High               7311      7311   7311   7311\n",
       "        Low               28262     28262  28262  28262\n",
       "        Medium            36870     36870  36870  36870\n",
       "        Non-Emergency     11414     11414  11414  11414\n",
       "     2  High               6330      6330   6330   6330\n",
       "        Low               28912     28912  28912  28912\n",
       "        Medium            32589     32589  32589  32589\n",
       "        Non-Emergency     11741     11741  11741  11741\n",
       "     3  High              16345     16345  16345  16345"
      ]
     },
     "execution_count": 43,
     "metadata": {},
     "output_type": "execute_result"
    }
   ],
   "source": [
    "dfPcounts = dfPriority.groupby(['yr','mo','priority']).count().head(9) # <<<<<<<<<<<<<<\n",
    "dfPcounts ### NOT ideal for graphs. CANNOT Pull part of the multi-index as criteria/filter"
   ]
  },
  {
   "cell_type": "code",
   "execution_count": 44,
   "metadata": {},
   "outputs": [
    {
     "data": {
      "text/html": [
       "<div>\n",
       "<style scoped>\n",
       "    .dataframe tbody tr th:only-of-type {\n",
       "        vertical-align: middle;\n",
       "    }\n",
       "\n",
       "    .dataframe tbody tr th {\n",
       "        vertical-align: top;\n",
       "    }\n",
       "\n",
       "    .dataframe thead th {\n",
       "        text-align: right;\n",
       "    }\n",
       "</style>\n",
       "<table border=\"1\" class=\"dataframe\">\n",
       "  <thead>\n",
       "    <tr style=\"text-align: right;\">\n",
       "      <th>priority</th>\n",
       "      <th>High</th>\n",
       "      <th>Low</th>\n",
       "      <th>Medium</th>\n",
       "      <th>Non-Emergency</th>\n",
       "      <th>TOTAL</th>\n",
       "    </tr>\n",
       "    <tr>\n",
       "      <th>mo</th>\n",
       "      <th></th>\n",
       "      <th></th>\n",
       "      <th></th>\n",
       "      <th></th>\n",
       "      <th></th>\n",
       "    </tr>\n",
       "  </thead>\n",
       "  <tbody>\n",
       "    <tr>\n",
       "      <th>1</th>\n",
       "      <td>7311</td>\n",
       "      <td>28262</td>\n",
       "      <td>36870</td>\n",
       "      <td>11414</td>\n",
       "      <td>83857</td>\n",
       "    </tr>\n",
       "    <tr>\n",
       "      <th>2</th>\n",
       "      <td>6330</td>\n",
       "      <td>28912</td>\n",
       "      <td>32589</td>\n",
       "      <td>11741</td>\n",
       "      <td>79572</td>\n",
       "    </tr>\n",
       "    <tr>\n",
       "      <th>3</th>\n",
       "      <td>16345</td>\n",
       "      <td>19488</td>\n",
       "      <td>40132</td>\n",
       "      <td>10218</td>\n",
       "      <td>86183</td>\n",
       "    </tr>\n",
       "    <tr>\n",
       "      <th>4</th>\n",
       "      <td>15892</td>\n",
       "      <td>19743</td>\n",
       "      <td>45225</td>\n",
       "      <td>9178</td>\n",
       "      <td>90038</td>\n",
       "    </tr>\n",
       "    <tr>\n",
       "      <th>5</th>\n",
       "      <td>10497</td>\n",
       "      <td>21136</td>\n",
       "      <td>48668</td>\n",
       "      <td>8495</td>\n",
       "      <td>88796</td>\n",
       "    </tr>\n",
       "    <tr>\n",
       "      <th>6</th>\n",
       "      <td>12361</td>\n",
       "      <td>21323</td>\n",
       "      <td>50206</td>\n",
       "      <td>9720</td>\n",
       "      <td>93610</td>\n",
       "    </tr>\n",
       "    <tr>\n",
       "      <th>7</th>\n",
       "      <td>13899</td>\n",
       "      <td>21385</td>\n",
       "      <td>52104</td>\n",
       "      <td>10093</td>\n",
       "      <td>97481</td>\n",
       "    </tr>\n",
       "    <tr>\n",
       "      <th>8</th>\n",
       "      <td>14015</td>\n",
       "      <td>21002</td>\n",
       "      <td>50465</td>\n",
       "      <td>10226</td>\n",
       "      <td>95708</td>\n",
       "    </tr>\n",
       "    <tr>\n",
       "      <th>9</th>\n",
       "      <td>13523</td>\n",
       "      <td>20724</td>\n",
       "      <td>48706</td>\n",
       "      <td>10279</td>\n",
       "      <td>93232</td>\n",
       "    </tr>\n",
       "    <tr>\n",
       "      <th>10</th>\n",
       "      <td>14915</td>\n",
       "      <td>20243</td>\n",
       "      <td>45101</td>\n",
       "      <td>10018</td>\n",
       "      <td>90277</td>\n",
       "    </tr>\n",
       "    <tr>\n",
       "      <th>11</th>\n",
       "      <td>14487</td>\n",
       "      <td>18839</td>\n",
       "      <td>42495</td>\n",
       "      <td>8847</td>\n",
       "      <td>84668</td>\n",
       "    </tr>\n",
       "    <tr>\n",
       "      <th>12</th>\n",
       "      <td>14574</td>\n",
       "      <td>18770</td>\n",
       "      <td>44078</td>\n",
       "      <td>9160</td>\n",
       "      <td>86582</td>\n",
       "    </tr>\n",
       "  </tbody>\n",
       "</table>\n",
       "</div>"
      ],
      "text/plain": [
       "priority   High    Low  Medium  Non-Emergency  TOTAL\n",
       "mo                                                  \n",
       "1          7311  28262   36870          11414  83857\n",
       "2          6330  28912   32589          11741  79572\n",
       "3         16345  19488   40132          10218  86183\n",
       "4         15892  19743   45225           9178  90038\n",
       "5         10497  21136   48668           8495  88796\n",
       "6         12361  21323   50206           9720  93610\n",
       "7         13899  21385   52104          10093  97481\n",
       "8         14015  21002   50465          10226  95708\n",
       "9         13523  20724   48706          10279  93232\n",
       "10        14915  20243   45101          10018  90277\n",
       "11        14487  18839   42495           8847  84668\n",
       "12        14574  18770   44078           9160  86582"
      ]
     },
     "execution_count": 44,
     "metadata": {},
     "output_type": "execute_result"
    }
   ],
   "source": [
    "df15 = dfPriority[dfPriority.yr==2015]\n",
    "df15c = pd.crosstab(df15.mo, df15.priority)\n",
    "df15c['TOTAL'] = df15c.High + df15c.Medium + df15c.Low + df15c['Non-Emergency']\n",
    "\n",
    "df16 = dfPriority[dfPriority.yr==2016]\n",
    "df16c = pd.crosstab(df16.mo, df16.priority)\n",
    "df16c['TOTAL'] = df16c.High + df16c.Medium + df16c.Low + df16c['Non-Emergency']\n",
    "\n",
    "df17 = dfPriority[dfPriority.yr==2017]\n",
    "df17c = pd.crosstab(df17.mo, df17.priority)\n",
    "df17c['TOTAL'] = df17c.High + df17c.Medium + df17c.Low + df17c['Non-Emergency']\n",
    "df15c"
   ]
  },
  {
   "cell_type": "code",
   "execution_count": 45,
   "metadata": {},
   "outputs": [
    {
     "data": {
      "text/plain": [
       "<matplotlib.legend.Legend at 0x1b897299a20>"
      ]
     },
     "execution_count": 45,
     "metadata": {},
     "output_type": "execute_result"
    },
    {
     "data": {
      "image/png": "[encoded data removed]",
      "text/plain": [
       "<matplotlib.figure.Figure at 0x1b897193dd8>"
      ]
     },
     "metadata": {},
     "output_type": "display_data"
    }
   ],
   "source": [
    "#Monthly Calls/Year Grouped by Priority\n",
    "#=================================================\n",
    "plt.style.use('ggplot')\n",
    "plt.figure(figsize=(16,12))\n",
    "\n",
    "#High Priority Calls \n",
    "#=================================================\n",
    "plt.subplot(2,2,1)\n",
    "plt.title('Monthly High Priority Calls/Year')\n",
    "plt.plot(df15c.index, df15c.High, color='red', marker='o', label='2015')\n",
    "plt.plot(df16c.index, df16c.High, color='green', marker='o', label='2016')\n",
    "plt.plot(df17c.index, df17c.High, color='blue', marker='o', label='2017')\n",
    "plt.xlabel('Month')\n",
    "plt.ylabel('No. Of Calls')\n",
    "plt.xlim(1, 12)\n",
    "plt.legend(loc='upper right')\n",
    "\n",
    "#Medium Priority Calls \n",
    "#=================================================\n",
    "plt.subplot(2, 2, 2)\n",
    "plt.title('Monthly Medium Priority Calls/Year')\n",
    "plt.plot(df15c.index, df15c.Medium, color='red', marker='o', label='2015')\n",
    "plt.plot(df16c.index, df16c.Medium, color='green', marker='o', label='2016')\n",
    "plt.plot(df17c.index, df17c.Medium, color='blue', marker='o', label='2017')\n",
    "plt.xlabel('Month')\n",
    "plt.xlim(1, 12)\n",
    "plt.legend(loc='upper right')\n",
    "\n",
    "#Low Priority Calls \n",
    "#=================================================\n",
    "plt.subplot(2, 2, 3)\n",
    "plt.title('Monthly Low Priority Calls/Year')\n",
    "plt.plot(df15c.index, df15c.Low, color='red', marker='o', label='2015')\n",
    "plt.plot(df16c.index, df16c.Low, color='green', marker='o', label='2016')\n",
    "plt.plot(df17c.index, df17c.Low, color='blue', marker='o', label='2017')\n",
    "plt.xlabel('Month')\n",
    "plt.ylabel('No. Of Calls')\n",
    "plt.xlim(1, 12)\n",
    "plt.legend(loc='upper right')\n",
    "\n",
    "#Non-Emergency Calls \n",
    "#=================================================\n",
    "plt.subplot(2, 2, 4)\n",
    "plt.title('Monthly Non-Emergency Calls/Year')\n",
    "plt.plot(df15c.index, df15c['Non-Emergency'], color='red', marker='o', label='2015')\n",
    "plt.plot(df16c.index, df16c['Non-Emergency'], color='green', marker='o', label='2016')\n",
    "plt.plot(df17c.index, df17c['Non-Emergency'], color='blue', marker='o', label='2017')\n",
    "plt.xlabel('Month')\n",
    "plt.xlim(1, 12)\n",
    "plt.legend(loc='upper right')\n",
    "#plt.savefig('Data/xlim_and_ylim.png')\n",
    "#plt.show()"
   ]
  },
  {
   "cell_type": "code",
   "execution_count": 46,
   "metadata": {},
   "outputs": [
    {
     "data": {
      "text/plain": [
       "<matplotlib.legend.Legend at 0x1b897a0be48>"
      ]
     },
     "execution_count": 46,
     "metadata": {},
     "output_type": "execute_result"
    },
    {
     "data": {
      "image/png": "[encoded data removed]",
      "text/plain": [
       "<matplotlib.figure.Figure at 0x1b8971935f8>"
      ]
     },
     "metadata": {},
     "output_type": "display_data"
    }
   ],
   "source": [
    "#Monthly Total Calls \n",
    "#=================================================\n",
    "plt.title('Monthly Total Calls/Year')\n",
    "plt.plot(df15c.index, df15c.TOTAL, color='red', marker='o', label='2015')\n",
    "plt.plot(df16c.index, df16c.TOTAL, color='green', marker='o', label='2016')\n",
    "plt.plot(df17c.index, df17c.TOTAL, color='blue', marker='o', label='2017')\n",
    "plt.xlabel('Month')\n",
    "plt.ylabel('No. Of Calls')\n",
    "plt.xlim(1, 12)\n",
    "plt.legend(loc='upper right')"
   ]
  },
  {
   "cell_type": "markdown",
   "metadata": {},
   "source": [
    "##6g dfCallType. Work only on top 5 callType\n",
    "###At this point, df911 has been wrangled already on the callType values which \n",
    "#affected the priority totals. So, from 6e,..."
   ]
  },
  {
   "cell_type": "code",
   "execution_count": 47,
   "metadata": {},
   "outputs": [
    {
     "data": {
      "text/plain": [
       "911/NO VOICE      42105\n",
       "TRAFFIC STOP      22486\n",
       "DISORDERLY        19106\n",
       "COMMON ASSAULT    10363\n",
       "AUTO ACCIDENT      9852\n",
       "Name: callType, dtype: int64"
      ]
     },
     "execution_count": 47,
     "metadata": {},
     "output_type": "execute_result"
    }
   ],
   "source": [
    "##from 6e, Work only on top 5 callType: [01/2015, 01/2016, 01/2017], #SUB: #32: Cleaned up from df911\n",
    "#dfCallTypeDist = pd.concat([df9115, df9116, df9117]) # 248503 [01/2015, 01/2016, 01/2017]\n",
    "#dfCallType = pd.DataFrame(dfCallTypeDist, columns=['callType', 'priority', 'district','yr', 'dy'])\n",
    "#dfCallType.shape = wrangled #(3123855, 7)\n",
    "\n",
    "dfCallType.callType.value_counts().head(5)  #shape=(248503, 5) #top 5\n",
    "# 911/NO VOICE=42105 TRAFFIC STOP=22486 DISORDERLY=19108 COMMON ASSAULT=10380 AUTO ACCIDENT=9855"
   ]
  },
  {
   "cell_type": "code",
   "execution_count": 48,
   "metadata": {},
   "outputs": [
    {
     "data": {
      "text/plain": [
       "911/NO VOICE      42105\n",
       "TRAFFIC STOP      22486\n",
       "DISORDERLY        19106\n",
       "COMMON ASSAULT    10363\n",
       "AUTO ACCIDENT      9852\n",
       "Name: callType, dtype: int64"
      ]
     },
     "execution_count": 48,
     "metadata": {},
     "output_type": "execute_result"
    }
   ],
   "source": [
    "ctList = ['911/NO VOICE','TRAFFIC STOP','DISORDERLY','COMMON ASSAULT','AUTO ACCIDENT']\n",
    "dfCallType = dfCallType[dfCallType.callType.isin(ctList)] #shape=(103934, 5)\n",
    "dfCallType.callType.value_counts()  #chk, just the top 5"
   ]
  },
  {
   "cell_type": "code",
   "execution_count": 49,
   "metadata": {},
   "outputs": [
    {
     "data": {
      "text/html": [
       "<div>\n",
       "<style scoped>\n",
       "    .dataframe tbody tr th:only-of-type {\n",
       "        vertical-align: middle;\n",
       "    }\n",
       "\n",
       "    .dataframe tbody tr th {\n",
       "        vertical-align: top;\n",
       "    }\n",
       "\n",
       "    .dataframe thead th {\n",
       "        text-align: right;\n",
       "    }\n",
       "</style>\n",
       "<table border=\"1\" class=\"dataframe\">\n",
       "  <thead>\n",
       "    <tr style=\"text-align: right;\">\n",
       "      <th>CallType</th>\n",
       "      <th>911/NO VOICE</th>\n",
       "      <th>AUTO ACCIDENT</th>\n",
       "      <th>COMMON ASSAULT</th>\n",
       "      <th>DISORDERLY</th>\n",
       "      <th>TRAFFIC STOP</th>\n",
       "    </tr>\n",
       "    <tr>\n",
       "      <th>Jan_Year</th>\n",
       "      <th></th>\n",
       "      <th></th>\n",
       "      <th></th>\n",
       "      <th></th>\n",
       "      <th></th>\n",
       "    </tr>\n",
       "  </thead>\n",
       "  <tbody>\n",
       "    <tr>\n",
       "      <th>2015</th>\n",
       "      <td>15935</td>\n",
       "      <td>3002</td>\n",
       "      <td>3141</td>\n",
       "      <td>5877</td>\n",
       "      <td>9449</td>\n",
       "    </tr>\n",
       "    <tr>\n",
       "      <th>2016</th>\n",
       "      <td>13449</td>\n",
       "      <td>3317</td>\n",
       "      <td>3431</td>\n",
       "      <td>6506</td>\n",
       "      <td>6557</td>\n",
       "    </tr>\n",
       "    <tr>\n",
       "      <th>2017</th>\n",
       "      <td>12721</td>\n",
       "      <td>3533</td>\n",
       "      <td>3791</td>\n",
       "      <td>6723</td>\n",
       "      <td>6480</td>\n",
       "    </tr>\n",
       "  </tbody>\n",
       "</table>\n",
       "</div>"
      ],
      "text/plain": [
       "CallType  911/NO VOICE  AUTO ACCIDENT  COMMON ASSAULT  DISORDERLY  \\\n",
       "Jan_Year                                                            \n",
       "2015             15935           3002            3141        5877   \n",
       "2016             13449           3317            3431        6506   \n",
       "2017             12721           3533            3791        6723   \n",
       "\n",
       "CallType  TRAFFIC STOP  \n",
       "Jan_Year                \n",
       "2015              9449  \n",
       "2016              6557  \n",
       "2017              6480  "
      ]
     },
     "execution_count": 49,
     "metadata": {},
     "output_type": "execute_result"
    }
   ],
   "source": [
    "ct = pd.crosstab(dfCallType.yr, dfCallType.callType, rownames=['Jan_Year'], colnames=['CallType'])\n",
    "ct  #chk. Top 5 callType:   <<<END>>> #priority district callType dT yr mo dy."
   ]
  },
  {
   "cell_type": "code",
   "execution_count": 50,
   "metadata": {},
   "outputs": [
    {
     "data": {
      "text/plain": [
       "[Text(0,0.5,'No. of Calls'),\n",
       " Text(0.5,0,'Year'),\n",
       " Text(0.5,1,'No. of Police Calls/Year (Month of January) Grouped by CallType')]"
      ]
     },
     "execution_count": 50,
     "metadata": {},
     "output_type": "execute_result"
    },
    {
     "data": {
      "image/png": "[encoded data removed]",
      "text/plain": [
       "<matplotlib.figure.Figure at 0x1b832197518>"
      ]
     },
     "metadata": {},
     "output_type": "display_data"
    }
   ],
   "source": [
    "tt = 'No. of Police Calls/Year (Month of January) Grouped by CallType'\n",
    "stacked = ct.stack().reset_index().rename(columns={0:'val'})\n",
    "bp = sns.barplot(x=stacked.Jan_Year, y=stacked.val, hue=stacked.CallType)\n",
    "bp.set(xlabel='Year', ylabel='No. of Calls', title=tt)"
   ]
  },
  {
   "cell_type": "markdown",
   "metadata": {},
   "source": [
    "## END END WRANGLE\n",
    "## END END WRANGLE"
   ]
  },
  {
   "cell_type": "markdown",
   "metadata": {},
   "source": [
    "##  911PoliceCalls4Svc.EDA.wrangle.ipynb <END"
   ]
  },
  {
   "cell_type": "markdown",
   "metadata": {},
   "source": [
    "## <END> 911PoliceCalls4Svc.EDA.wrangle.ipynb <END"
   ]
  }
 ],
 "metadata": {
  "kernelspec": {
   "display_name": "Python 3",
   "language": "python",
   "name": "python3"
  },
  "language_info": {
   "codemirror_mode": {
    "name": "ipython",
    "version": 3
   },
   "file_extension": ".py",
   "mimetype": "text/x-python",
   "name": "python",
   "nbconvert_exporter": "python",
   "pygments_lexer": "ipython3",
   "version": "3.6.4"
  }
 },
 "nbformat": 4,
 "nbformat_minor": 2
}
